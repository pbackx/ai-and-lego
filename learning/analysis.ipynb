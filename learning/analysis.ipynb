{
 "cells": [
  {
   "cell_type": "code",
   "execution_count": 1,
   "id": "011d29eb-21a6-4c1d-9a4d-b832fc0d8816",
   "metadata": {
    "ExecuteTime": {
     "end_time": "2024-01-29T20:55:32.360285300Z",
     "start_time": "2024-01-29T20:55:27.285336400Z"
    }
   },
   "outputs": [
    {
     "name": "stderr",
     "output_type": "stream",
     "text": [
      "2024-01-29 20:55:29.038946: E external/local_xla/xla/stream_executor/cuda/cuda_dnn.cc:9261] Unable to register cuDNN factory: Attempting to register factory for plugin cuDNN when one has already been registered\n",
      "2024-01-29 20:55:29.039031: E external/local_xla/xla/stream_executor/cuda/cuda_fft.cc:607] Unable to register cuFFT factory: Attempting to register factory for plugin cuFFT when one has already been registered\n",
      "2024-01-29 20:55:29.096568: E external/local_xla/xla/stream_executor/cuda/cuda_blas.cc:1515] Unable to register cuBLAS factory: Attempting to register factory for plugin cuBLAS when one has already been registered\n",
      "2024-01-29 20:55:29.217022: I tensorflow/core/platform/cpu_feature_guard.cc:182] This TensorFlow binary is optimized to use available CPU instructions in performance-critical operations.\n",
      "To enable the following instructions: AVX2 FMA, in other operations, rebuild TensorFlow with the appropriate compiler flags.\n"
     ]
    }
   ],
   "source": [
    "import pandas as pd\n",
    "import tensorflow as tf\n",
    "import numpy as np\n",
    "import glob"
   ]
  },
  {
   "cell_type": "code",
   "execution_count": 2,
   "id": "01d689f6-d3c7-4767-9ed7-a61a41f3622b",
   "metadata": {
    "ExecuteTime": {
     "end_time": "2024-01-29T20:55:32.722723900Z",
     "start_time": "2024-01-29T20:55:32.715212700Z"
    }
   },
   "outputs": [
    {
     "name": "stderr",
     "output_type": "stream",
     "text": [
      "2024-01-29 20:55:32.648399: I external/local_xla/xla/stream_executor/cuda/cuda_executor.cc:887] could not open file to read NUMA node: /sys/bus/pci/devices/0000:08:00.0/numa_node\n",
      "Your kernel may have been built without NUMA support.\n",
      "2024-01-29 20:55:32.715134: I external/local_xla/xla/stream_executor/cuda/cuda_executor.cc:887] could not open file to read NUMA node: /sys/bus/pci/devices/0000:08:00.0/numa_node\n",
      "Your kernel may have been built without NUMA support.\n",
      "2024-01-29 20:55:32.715183: I external/local_xla/xla/stream_executor/cuda/cuda_executor.cc:887] could not open file to read NUMA node: /sys/bus/pci/devices/0000:08:00.0/numa_node\n",
      "Your kernel may have been built without NUMA support.\n"
     ]
    },
    {
     "data": {
      "text/plain": "[PhysicalDevice(name='/physical_device:GPU:0', device_type='GPU')]"
     },
     "execution_count": 2,
     "metadata": {},
     "output_type": "execute_result"
    }
   ],
   "source": [
    "tf.config.list_physical_devices('GPU')"
   ]
  },
  {
   "cell_type": "code",
   "execution_count": 3,
   "id": "35ca84fc-8937-4084-99b1-22d4d51f72ef",
   "metadata": {
    "ExecuteTime": {
     "end_time": "2024-01-29T20:55:32.776053600Z",
     "start_time": "2024-01-29T20:55:32.722723900Z"
    }
   },
   "outputs": [
    {
     "data": {
      "text/plain": "     pitch  roll  acceleration_x  acceleration_y  acceleration_z  \\\n0     -1.0   0.0       205.85300       136.43750        9787.594   \n1     -3.0   2.0       636.70830       330.32230        9162.854   \n2     -1.0  -1.0       550.53720      -526.60080        9876.159   \n3     -4.0   0.0       679.79380         2.39364        9201.152   \n4      0.0   2.0       -86.17104       440.42980       10618.190   \n..     ...   ...             ...             ...             ...   \n274    0.0  -3.0        40.69188      -497.87710        8748.754   \n275    0.0  -3.0        40.69188      -497.87710        8748.754   \n276   -3.0  -3.0       643.88920      -646.28280        9414.187   \n277    0.0   0.0         9.57456       -21.54276        9500.357   \n278   -1.0   2.0       215.42760       411.70610        9835.467   \n\n     angular_velocity_x  angular_velocity_y  angular_velocity_z  distance  \\\n0             -0.055989           -0.095555            0.005286    2000.0   \n1              2.254011           -2.895555           -0.414714    2000.0   \n2              2.114011           -2.755555           -2.724714    2000.0   \n3             -0.545989           -0.095555            3.645286    1843.0   \n4              0.294011           -0.025555           -3.984714    1803.0   \n..                  ...                 ...                 ...       ...   \n274           -5.146463           12.652540          177.248700    2000.0   \n275           -5.146463           12.652540          177.248700    2000.0   \n276           -1.086463            2.572544          171.018800    2000.0   \n277            2.483537           -7.297456            6.378747    2000.0   \n278           -0.316463            1.802544           -3.141253     764.0   \n\n                           time        jerk_x       jerk_y        jerk_z  \\\n0    2024-01-12 16:26:33.393240      0.000000     0.000000      0.000000   \n1    2024-01-12 16:26:33.513343   3587.381664  1614.321041  -5201.701873   \n2    2024-01-12 16:26:33.693540   -478.204965 -4755.479281   3958.473227   \n3    2024-01-12 16:26:33.933171    539.398492  2207.537589  -2816.860089   \n4    2024-01-12 16:26:34.113693  -4243.055362  2426.497380   7849.669292   \n..                          ...           ...          ...           ...   \n274  2024-01-12 16:24:31.735440 -29213.812318   279.877173 -28414.193606   \n275  2024-01-12 16:24:31.735440 -29213.812318   279.877173 -28414.193606   \n276  2024-01-12 16:24:31.976498   2502.291233  -615.643123   2760.468435   \n277  2024-01-12 16:24:32.156019  -3533.372920  3480.038770    479.999554   \n278  2024-01-12 16:24:32.396071    857.535201  1804.812541   1395.989202   \n\n     is_running_backoff  \n0                 False  \n1                 False  \n2                 False  \n3                 False  \n4                 False  \n..                  ...  \n274                True  \n275               False  \n276               False  \n277               False  \n278               False  \n\n[899 rows x 14 columns]",
      "text/html": "<div>\n<style scoped>\n    .dataframe tbody tr th:only-of-type {\n        vertical-align: middle;\n    }\n\n    .dataframe tbody tr th {\n        vertical-align: top;\n    }\n\n    .dataframe thead th {\n        text-align: right;\n    }\n</style>\n<table border=\"1\" class=\"dataframe\">\n  <thead>\n    <tr style=\"text-align: right;\">\n      <th></th>\n      <th>pitch</th>\n      <th>roll</th>\n      <th>acceleration_x</th>\n      <th>acceleration_y</th>\n      <th>acceleration_z</th>\n      <th>angular_velocity_x</th>\n      <th>angular_velocity_y</th>\n      <th>angular_velocity_z</th>\n      <th>distance</th>\n      <th>time</th>\n      <th>jerk_x</th>\n      <th>jerk_y</th>\n      <th>jerk_z</th>\n      <th>is_running_backoff</th>\n    </tr>\n  </thead>\n  <tbody>\n    <tr>\n      <th>0</th>\n      <td>-1.0</td>\n      <td>0.0</td>\n      <td>205.85300</td>\n      <td>136.43750</td>\n      <td>9787.594</td>\n      <td>-0.055989</td>\n      <td>-0.095555</td>\n      <td>0.005286</td>\n      <td>2000.0</td>\n      <td>2024-01-12 16:26:33.393240</td>\n      <td>0.000000</td>\n      <td>0.000000</td>\n      <td>0.000000</td>\n      <td>False</td>\n    </tr>\n    <tr>\n      <th>1</th>\n      <td>-3.0</td>\n      <td>2.0</td>\n      <td>636.70830</td>\n      <td>330.32230</td>\n      <td>9162.854</td>\n      <td>2.254011</td>\n      <td>-2.895555</td>\n      <td>-0.414714</td>\n      <td>2000.0</td>\n      <td>2024-01-12 16:26:33.513343</td>\n      <td>3587.381664</td>\n      <td>1614.321041</td>\n      <td>-5201.701873</td>\n      <td>False</td>\n    </tr>\n    <tr>\n      <th>2</th>\n      <td>-1.0</td>\n      <td>-1.0</td>\n      <td>550.53720</td>\n      <td>-526.60080</td>\n      <td>9876.159</td>\n      <td>2.114011</td>\n      <td>-2.755555</td>\n      <td>-2.724714</td>\n      <td>2000.0</td>\n      <td>2024-01-12 16:26:33.693540</td>\n      <td>-478.204965</td>\n      <td>-4755.479281</td>\n      <td>3958.473227</td>\n      <td>False</td>\n    </tr>\n    <tr>\n      <th>3</th>\n      <td>-4.0</td>\n      <td>0.0</td>\n      <td>679.79380</td>\n      <td>2.39364</td>\n      <td>9201.152</td>\n      <td>-0.545989</td>\n      <td>-0.095555</td>\n      <td>3.645286</td>\n      <td>1843.0</td>\n      <td>2024-01-12 16:26:33.933171</td>\n      <td>539.398492</td>\n      <td>2207.537589</td>\n      <td>-2816.860089</td>\n      <td>False</td>\n    </tr>\n    <tr>\n      <th>4</th>\n      <td>0.0</td>\n      <td>2.0</td>\n      <td>-86.17104</td>\n      <td>440.42980</td>\n      <td>10618.190</td>\n      <td>0.294011</td>\n      <td>-0.025555</td>\n      <td>-3.984714</td>\n      <td>1803.0</td>\n      <td>2024-01-12 16:26:34.113693</td>\n      <td>-4243.055362</td>\n      <td>2426.497380</td>\n      <td>7849.669292</td>\n      <td>False</td>\n    </tr>\n    <tr>\n      <th>...</th>\n      <td>...</td>\n      <td>...</td>\n      <td>...</td>\n      <td>...</td>\n      <td>...</td>\n      <td>...</td>\n      <td>...</td>\n      <td>...</td>\n      <td>...</td>\n      <td>...</td>\n      <td>...</td>\n      <td>...</td>\n      <td>...</td>\n      <td>...</td>\n    </tr>\n    <tr>\n      <th>274</th>\n      <td>0.0</td>\n      <td>-3.0</td>\n      <td>40.69188</td>\n      <td>-497.87710</td>\n      <td>8748.754</td>\n      <td>-5.146463</td>\n      <td>12.652540</td>\n      <td>177.248700</td>\n      <td>2000.0</td>\n      <td>2024-01-12 16:24:31.735440</td>\n      <td>-29213.812318</td>\n      <td>279.877173</td>\n      <td>-28414.193606</td>\n      <td>True</td>\n    </tr>\n    <tr>\n      <th>275</th>\n      <td>0.0</td>\n      <td>-3.0</td>\n      <td>40.69188</td>\n      <td>-497.87710</td>\n      <td>8748.754</td>\n      <td>-5.146463</td>\n      <td>12.652540</td>\n      <td>177.248700</td>\n      <td>2000.0</td>\n      <td>2024-01-12 16:24:31.735440</td>\n      <td>-29213.812318</td>\n      <td>279.877173</td>\n      <td>-28414.193606</td>\n      <td>False</td>\n    </tr>\n    <tr>\n      <th>276</th>\n      <td>-3.0</td>\n      <td>-3.0</td>\n      <td>643.88920</td>\n      <td>-646.28280</td>\n      <td>9414.187</td>\n      <td>-1.086463</td>\n      <td>2.572544</td>\n      <td>171.018800</td>\n      <td>2000.0</td>\n      <td>2024-01-12 16:24:31.976498</td>\n      <td>2502.291233</td>\n      <td>-615.643123</td>\n      <td>2760.468435</td>\n      <td>False</td>\n    </tr>\n    <tr>\n      <th>277</th>\n      <td>0.0</td>\n      <td>0.0</td>\n      <td>9.57456</td>\n      <td>-21.54276</td>\n      <td>9500.357</td>\n      <td>2.483537</td>\n      <td>-7.297456</td>\n      <td>6.378747</td>\n      <td>2000.0</td>\n      <td>2024-01-12 16:24:32.156019</td>\n      <td>-3533.372920</td>\n      <td>3480.038770</td>\n      <td>479.999554</td>\n      <td>False</td>\n    </tr>\n    <tr>\n      <th>278</th>\n      <td>-1.0</td>\n      <td>2.0</td>\n      <td>215.42760</td>\n      <td>411.70610</td>\n      <td>9835.467</td>\n      <td>-0.316463</td>\n      <td>1.802544</td>\n      <td>-3.141253</td>\n      <td>764.0</td>\n      <td>2024-01-12 16:24:32.396071</td>\n      <td>857.535201</td>\n      <td>1804.812541</td>\n      <td>1395.989202</td>\n      <td>False</td>\n    </tr>\n  </tbody>\n</table>\n<p>899 rows × 14 columns</p>\n</div>"
     },
     "execution_count": 3,
     "metadata": {},
     "output_type": "execute_result"
    }
   ],
   "source": [
    "csv_files = glob.glob('./driving_data/*.csv')\n",
    "dfs = []\n",
    "for file in csv_files:\n",
    "    dfs.append(pd.read_csv(file))\n",
    "df = pd.concat(dfs)\n",
    "df"
   ]
  },
  {
   "cell_type": "code",
   "execution_count": 4,
   "id": "852f6edc-ca76-46dd-8d57-b9b5e5ee7f40",
   "metadata": {
    "ExecuteTime": {
     "end_time": "2024-01-29T20:55:32.790438100Z",
     "start_time": "2024-01-29T20:55:32.767051300Z"
    }
   },
   "outputs": [
    {
     "data": {
      "text/plain": "     pitch  roll  acceleration_x  acceleration_y  acceleration_z  \\\n0     -1.0   0.0       205.85300       136.43750        9787.594   \n1     -3.0   2.0       636.70830       330.32230        9162.854   \n2     -1.0  -1.0       550.53720      -526.60080        9876.159   \n3     -4.0   0.0       679.79380         2.39364        9201.152   \n4      0.0   2.0       -86.17104       440.42980       10618.190   \n..     ...   ...             ...             ...             ...   \n266   19.0 -24.0     -2549.22700     -3023.16700        6582.510   \n275    0.0  -3.0        40.69188      -497.87710        8748.754   \n276   -3.0  -3.0       643.88920      -646.28280        9414.187   \n277    0.0   0.0         9.57456       -21.54276        9500.357   \n278   -1.0   2.0       215.42760       411.70610        9835.467   \n\n     angular_velocity_x  angular_velocity_y  angular_velocity_z  distance  \\\n0             -0.055989           -0.095555            0.005286    2000.0   \n1              2.254011           -2.895555           -0.414714    2000.0   \n2              2.114011           -2.755555           -2.724714    2000.0   \n3             -0.545989           -0.095555            3.645286    1843.0   \n4              0.294011           -0.025555           -3.984714    1803.0   \n..                  ...                 ...                 ...       ...   \n266           -8.926463          -20.247460          -91.831250    2000.0   \n275           -5.146463           12.652540          177.248700    2000.0   \n276           -1.086463            2.572544          171.018800    2000.0   \n277            2.483537           -7.297456            6.378747    2000.0   \n278           -0.316463            1.802544           -3.141253     764.0   \n\n                           time        jerk_x        jerk_y        jerk_z  \\\n0    2024-01-12 16:26:33.393240      0.000000      0.000000      0.000000   \n1    2024-01-12 16:26:33.513343   3587.381664   1614.321041  -5201.701873   \n2    2024-01-12 16:26:33.693540   -478.204965  -4755.479281   3958.473227   \n3    2024-01-12 16:26:33.933171    539.398492   2207.537589  -2816.860089   \n4    2024-01-12 16:26:34.113693  -4243.055362   2426.497380   7849.669292   \n..                          ...           ...           ...           ...   \n266  2024-01-12 16:24:30.655430 -17175.118334 -19083.460541 -14225.857888   \n275  2024-01-12 16:24:31.735440 -29213.812318    279.877173 -28414.193606   \n276  2024-01-12 16:24:31.976498   2502.291233   -615.643123   2760.468435   \n277  2024-01-12 16:24:32.156019  -3533.372920   3480.038770    479.999554   \n278  2024-01-12 16:24:32.396071    857.535201   1804.812541   1395.989202   \n\n     is_running_backoff  \n0                 False  \n1                 False  \n2                 False  \n3                 False  \n4                 False  \n..                  ...  \n266                True  \n275               False  \n276               False  \n277               False  \n278               False  \n\n[649 rows x 14 columns]",
      "text/html": "<div>\n<style scoped>\n    .dataframe tbody tr th:only-of-type {\n        vertical-align: middle;\n    }\n\n    .dataframe tbody tr th {\n        vertical-align: top;\n    }\n\n    .dataframe thead th {\n        text-align: right;\n    }\n</style>\n<table border=\"1\" class=\"dataframe\">\n  <thead>\n    <tr style=\"text-align: right;\">\n      <th></th>\n      <th>pitch</th>\n      <th>roll</th>\n      <th>acceleration_x</th>\n      <th>acceleration_y</th>\n      <th>acceleration_z</th>\n      <th>angular_velocity_x</th>\n      <th>angular_velocity_y</th>\n      <th>angular_velocity_z</th>\n      <th>distance</th>\n      <th>time</th>\n      <th>jerk_x</th>\n      <th>jerk_y</th>\n      <th>jerk_z</th>\n      <th>is_running_backoff</th>\n    </tr>\n  </thead>\n  <tbody>\n    <tr>\n      <th>0</th>\n      <td>-1.0</td>\n      <td>0.0</td>\n      <td>205.85300</td>\n      <td>136.43750</td>\n      <td>9787.594</td>\n      <td>-0.055989</td>\n      <td>-0.095555</td>\n      <td>0.005286</td>\n      <td>2000.0</td>\n      <td>2024-01-12 16:26:33.393240</td>\n      <td>0.000000</td>\n      <td>0.000000</td>\n      <td>0.000000</td>\n      <td>False</td>\n    </tr>\n    <tr>\n      <th>1</th>\n      <td>-3.0</td>\n      <td>2.0</td>\n      <td>636.70830</td>\n      <td>330.32230</td>\n      <td>9162.854</td>\n      <td>2.254011</td>\n      <td>-2.895555</td>\n      <td>-0.414714</td>\n      <td>2000.0</td>\n      <td>2024-01-12 16:26:33.513343</td>\n      <td>3587.381664</td>\n      <td>1614.321041</td>\n      <td>-5201.701873</td>\n      <td>False</td>\n    </tr>\n    <tr>\n      <th>2</th>\n      <td>-1.0</td>\n      <td>-1.0</td>\n      <td>550.53720</td>\n      <td>-526.60080</td>\n      <td>9876.159</td>\n      <td>2.114011</td>\n      <td>-2.755555</td>\n      <td>-2.724714</td>\n      <td>2000.0</td>\n      <td>2024-01-12 16:26:33.693540</td>\n      <td>-478.204965</td>\n      <td>-4755.479281</td>\n      <td>3958.473227</td>\n      <td>False</td>\n    </tr>\n    <tr>\n      <th>3</th>\n      <td>-4.0</td>\n      <td>0.0</td>\n      <td>679.79380</td>\n      <td>2.39364</td>\n      <td>9201.152</td>\n      <td>-0.545989</td>\n      <td>-0.095555</td>\n      <td>3.645286</td>\n      <td>1843.0</td>\n      <td>2024-01-12 16:26:33.933171</td>\n      <td>539.398492</td>\n      <td>2207.537589</td>\n      <td>-2816.860089</td>\n      <td>False</td>\n    </tr>\n    <tr>\n      <th>4</th>\n      <td>0.0</td>\n      <td>2.0</td>\n      <td>-86.17104</td>\n      <td>440.42980</td>\n      <td>10618.190</td>\n      <td>0.294011</td>\n      <td>-0.025555</td>\n      <td>-3.984714</td>\n      <td>1803.0</td>\n      <td>2024-01-12 16:26:34.113693</td>\n      <td>-4243.055362</td>\n      <td>2426.497380</td>\n      <td>7849.669292</td>\n      <td>False</td>\n    </tr>\n    <tr>\n      <th>...</th>\n      <td>...</td>\n      <td>...</td>\n      <td>...</td>\n      <td>...</td>\n      <td>...</td>\n      <td>...</td>\n      <td>...</td>\n      <td>...</td>\n      <td>...</td>\n      <td>...</td>\n      <td>...</td>\n      <td>...</td>\n      <td>...</td>\n      <td>...</td>\n    </tr>\n    <tr>\n      <th>266</th>\n      <td>19.0</td>\n      <td>-24.0</td>\n      <td>-2549.22700</td>\n      <td>-3023.16700</td>\n      <td>6582.510</td>\n      <td>-8.926463</td>\n      <td>-20.247460</td>\n      <td>-91.831250</td>\n      <td>2000.0</td>\n      <td>2024-01-12 16:24:30.655430</td>\n      <td>-17175.118334</td>\n      <td>-19083.460541</td>\n      <td>-14225.857888</td>\n      <td>True</td>\n    </tr>\n    <tr>\n      <th>275</th>\n      <td>0.0</td>\n      <td>-3.0</td>\n      <td>40.69188</td>\n      <td>-497.87710</td>\n      <td>8748.754</td>\n      <td>-5.146463</td>\n      <td>12.652540</td>\n      <td>177.248700</td>\n      <td>2000.0</td>\n      <td>2024-01-12 16:24:31.735440</td>\n      <td>-29213.812318</td>\n      <td>279.877173</td>\n      <td>-28414.193606</td>\n      <td>False</td>\n    </tr>\n    <tr>\n      <th>276</th>\n      <td>-3.0</td>\n      <td>-3.0</td>\n      <td>643.88920</td>\n      <td>-646.28280</td>\n      <td>9414.187</td>\n      <td>-1.086463</td>\n      <td>2.572544</td>\n      <td>171.018800</td>\n      <td>2000.0</td>\n      <td>2024-01-12 16:24:31.976498</td>\n      <td>2502.291233</td>\n      <td>-615.643123</td>\n      <td>2760.468435</td>\n      <td>False</td>\n    </tr>\n    <tr>\n      <th>277</th>\n      <td>0.0</td>\n      <td>0.0</td>\n      <td>9.57456</td>\n      <td>-21.54276</td>\n      <td>9500.357</td>\n      <td>2.483537</td>\n      <td>-7.297456</td>\n      <td>6.378747</td>\n      <td>2000.0</td>\n      <td>2024-01-12 16:24:32.156019</td>\n      <td>-3533.372920</td>\n      <td>3480.038770</td>\n      <td>479.999554</td>\n      <td>False</td>\n    </tr>\n    <tr>\n      <th>278</th>\n      <td>-1.0</td>\n      <td>2.0</td>\n      <td>215.42760</td>\n      <td>411.70610</td>\n      <td>9835.467</td>\n      <td>-0.316463</td>\n      <td>1.802544</td>\n      <td>-3.141253</td>\n      <td>764.0</td>\n      <td>2024-01-12 16:24:32.396071</td>\n      <td>857.535201</td>\n      <td>1804.812541</td>\n      <td>1395.989202</td>\n      <td>False</td>\n    </tr>\n  </tbody>\n</table>\n<p>649 rows × 14 columns</p>\n</div>"
     },
     "execution_count": 4,
     "metadata": {},
     "output_type": "execute_result"
    }
   ],
   "source": [
    "# We only want to keep the rows where nothing is happening or when it starts the backoff procedure. \n",
    "# The data during the backoff procedure is not useful.\n",
    "backoff_start = (df['is_running_backoff'] & -df['is_running_backoff'].shift(fill_value=False))\n",
    "filter_mask = -df['is_running_backoff'] | backoff_start\n",
    "filtered_df = df[filter_mask]\n",
    "filtered_df"
   ]
  },
  {
   "cell_type": "code",
   "outputs": [
    {
     "name": "stderr",
     "output_type": "stream",
     "text": [
      "/tmp/ipykernel_12/62404578.py:5: SettingWithCopyWarning: \n",
      "A value is trying to be set on a copy of a slice from a DataFrame.\n",
      "Try using .loc[row_indexer,col_indexer] = value instead\n",
      "\n",
      "See the caveats in the documentation: https://pandas.pydata.org/pandas-docs/stable/user_guide/indexing.html#returning-a-view-versus-a-copy\n",
      "  filtered_df[col] = scaler.fit_transform(filtered_df[[col]])\n",
      "/tmp/ipykernel_12/62404578.py:5: SettingWithCopyWarning: \n",
      "A value is trying to be set on a copy of a slice from a DataFrame.\n",
      "Try using .loc[row_indexer,col_indexer] = value instead\n",
      "\n",
      "See the caveats in the documentation: https://pandas.pydata.org/pandas-docs/stable/user_guide/indexing.html#returning-a-view-versus-a-copy\n",
      "  filtered_df[col] = scaler.fit_transform(filtered_df[[col]])\n",
      "/tmp/ipykernel_12/62404578.py:5: SettingWithCopyWarning: \n",
      "A value is trying to be set on a copy of a slice from a DataFrame.\n",
      "Try using .loc[row_indexer,col_indexer] = value instead\n",
      "\n",
      "See the caveats in the documentation: https://pandas.pydata.org/pandas-docs/stable/user_guide/indexing.html#returning-a-view-versus-a-copy\n",
      "  filtered_df[col] = scaler.fit_transform(filtered_df[[col]])\n",
      "/tmp/ipykernel_12/62404578.py:5: SettingWithCopyWarning: \n",
      "A value is trying to be set on a copy of a slice from a DataFrame.\n",
      "Try using .loc[row_indexer,col_indexer] = value instead\n",
      "\n",
      "See the caveats in the documentation: https://pandas.pydata.org/pandas-docs/stable/user_guide/indexing.html#returning-a-view-versus-a-copy\n",
      "  filtered_df[col] = scaler.fit_transform(filtered_df[[col]])\n",
      "/tmp/ipykernel_12/62404578.py:5: SettingWithCopyWarning: \n",
      "A value is trying to be set on a copy of a slice from a DataFrame.\n",
      "Try using .loc[row_indexer,col_indexer] = value instead\n",
      "\n",
      "See the caveats in the documentation: https://pandas.pydata.org/pandas-docs/stable/user_guide/indexing.html#returning-a-view-versus-a-copy\n",
      "  filtered_df[col] = scaler.fit_transform(filtered_df[[col]])\n",
      "/tmp/ipykernel_12/62404578.py:5: SettingWithCopyWarning: \n",
      "A value is trying to be set on a copy of a slice from a DataFrame.\n",
      "Try using .loc[row_indexer,col_indexer] = value instead\n",
      "\n",
      "See the caveats in the documentation: https://pandas.pydata.org/pandas-docs/stable/user_guide/indexing.html#returning-a-view-versus-a-copy\n",
      "  filtered_df[col] = scaler.fit_transform(filtered_df[[col]])\n",
      "/tmp/ipykernel_12/62404578.py:5: SettingWithCopyWarning: \n",
      "A value is trying to be set on a copy of a slice from a DataFrame.\n",
      "Try using .loc[row_indexer,col_indexer] = value instead\n",
      "\n",
      "See the caveats in the documentation: https://pandas.pydata.org/pandas-docs/stable/user_guide/indexing.html#returning-a-view-versus-a-copy\n",
      "  filtered_df[col] = scaler.fit_transform(filtered_df[[col]])\n",
      "/tmp/ipykernel_12/62404578.py:5: SettingWithCopyWarning: \n",
      "A value is trying to be set on a copy of a slice from a DataFrame.\n",
      "Try using .loc[row_indexer,col_indexer] = value instead\n",
      "\n",
      "See the caveats in the documentation: https://pandas.pydata.org/pandas-docs/stable/user_guide/indexing.html#returning-a-view-versus-a-copy\n",
      "  filtered_df[col] = scaler.fit_transform(filtered_df[[col]])\n",
      "/tmp/ipykernel_12/62404578.py:5: SettingWithCopyWarning: \n",
      "A value is trying to be set on a copy of a slice from a DataFrame.\n",
      "Try using .loc[row_indexer,col_indexer] = value instead\n",
      "\n",
      "See the caveats in the documentation: https://pandas.pydata.org/pandas-docs/stable/user_guide/indexing.html#returning-a-view-versus-a-copy\n",
      "  filtered_df[col] = scaler.fit_transform(filtered_df[[col]])\n",
      "/tmp/ipykernel_12/62404578.py:5: SettingWithCopyWarning: \n",
      "A value is trying to be set on a copy of a slice from a DataFrame.\n",
      "Try using .loc[row_indexer,col_indexer] = value instead\n",
      "\n",
      "See the caveats in the documentation: https://pandas.pydata.org/pandas-docs/stable/user_guide/indexing.html#returning-a-view-versus-a-copy\n",
      "  filtered_df[col] = scaler.fit_transform(filtered_df[[col]])\n",
      "/tmp/ipykernel_12/62404578.py:5: SettingWithCopyWarning: \n",
      "A value is trying to be set on a copy of a slice from a DataFrame.\n",
      "Try using .loc[row_indexer,col_indexer] = value instead\n",
      "\n",
      "See the caveats in the documentation: https://pandas.pydata.org/pandas-docs/stable/user_guide/indexing.html#returning-a-view-versus-a-copy\n",
      "  filtered_df[col] = scaler.fit_transform(filtered_df[[col]])\n",
      "/tmp/ipykernel_12/62404578.py:5: SettingWithCopyWarning: \n",
      "A value is trying to be set on a copy of a slice from a DataFrame.\n",
      "Try using .loc[row_indexer,col_indexer] = value instead\n",
      "\n",
      "See the caveats in the documentation: https://pandas.pydata.org/pandas-docs/stable/user_guide/indexing.html#returning-a-view-versus-a-copy\n",
      "  filtered_df[col] = scaler.fit_transform(filtered_df[[col]])\n"
     ]
    },
    {
     "data": {
      "text/plain": "        pitch      roll  acceleration_x  acceleration_y  acceleration_z  \\\n0    0.431373  0.836735        0.672459        0.639962        0.719123   \n1    0.411765  0.846939        0.682714        0.647743        0.701234   \n2    0.431373  0.831633        0.680663        0.613352        0.721659   \n3    0.401961  0.836735        0.683740        0.634582        0.702330   \n4    0.441176  0.846939        0.665508        0.652161        0.742906   \n..        ...       ...             ...             ...             ...   \n266  0.627451  0.714286        0.606882        0.513160        0.627348   \n275  0.441176  0.821429        0.668528        0.614505        0.689376   \n276  0.411765  0.821429        0.682885        0.608549        0.708430   \n277  0.441176  0.836735        0.667787        0.633621        0.710898   \n278  0.431373  0.846939        0.672687        0.651009        0.720494   \n\n     angular_velocity_x  angular_velocity_y  angular_velocity_z  distance  \\\n0              0.857990            0.513387            0.495950  1.000000   \n1              0.875006            0.490464            0.494943  1.000000   \n2              0.873975            0.491610            0.489404  1.000000   \n3              0.854381            0.513387            0.504678  0.919898   \n4              0.860568            0.513960            0.486383  0.899490   \n..                  ...                 ...                 ...       ...   \n266            0.792651            0.348406            0.275750  1.000000   \n275            0.820494            0.617754            0.920933  1.000000   \n276            0.850400            0.535230            0.905995  1.000000   \n277            0.876697            0.454426            0.511232  1.000000   \n278            0.856072            0.528926            0.488405  0.369388   \n\n                           time    jerk_x    jerk_y    jerk_z  \\\n0    2024-01-12 16:26:33.393240  0.687615  0.728314  0.664863   \n1    2024-01-12 16:26:33.513343  0.702060  0.735152  0.639645   \n2    2024-01-12 16:26:33.693540  0.685689  0.708170  0.684054   \n3    2024-01-12 16:26:33.933171  0.689787  0.737665  0.651207   \n4    2024-01-12 16:26:34.113693  0.670529  0.738593  0.702919   \n..                          ...       ...       ...       ...   \n266  2024-01-12 16:24:30.655430  0.618454  0.647477  0.595894   \n275  2024-01-12 16:24:31.735440  0.569977  0.729500  0.527108   \n276  2024-01-12 16:24:31.976498  0.697691  0.725706  0.678246   \n277  2024-01-12 16:24:32.156019  0.673387  0.743056  0.667190   \n278  2024-01-12 16:24:32.396071  0.691068  0.735959  0.671631   \n\n     is_running_backoff  \n0                 False  \n1                 False  \n2                 False  \n3                 False  \n4                 False  \n..                  ...  \n266                True  \n275               False  \n276               False  \n277               False  \n278               False  \n\n[649 rows x 14 columns]",
      "text/html": "<div>\n<style scoped>\n    .dataframe tbody tr th:only-of-type {\n        vertical-align: middle;\n    }\n\n    .dataframe tbody tr th {\n        vertical-align: top;\n    }\n\n    .dataframe thead th {\n        text-align: right;\n    }\n</style>\n<table border=\"1\" class=\"dataframe\">\n  <thead>\n    <tr style=\"text-align: right;\">\n      <th></th>\n      <th>pitch</th>\n      <th>roll</th>\n      <th>acceleration_x</th>\n      <th>acceleration_y</th>\n      <th>acceleration_z</th>\n      <th>angular_velocity_x</th>\n      <th>angular_velocity_y</th>\n      <th>angular_velocity_z</th>\n      <th>distance</th>\n      <th>time</th>\n      <th>jerk_x</th>\n      <th>jerk_y</th>\n      <th>jerk_z</th>\n      <th>is_running_backoff</th>\n    </tr>\n  </thead>\n  <tbody>\n    <tr>\n      <th>0</th>\n      <td>0.431373</td>\n      <td>0.836735</td>\n      <td>0.672459</td>\n      <td>0.639962</td>\n      <td>0.719123</td>\n      <td>0.857990</td>\n      <td>0.513387</td>\n      <td>0.495950</td>\n      <td>1.000000</td>\n      <td>2024-01-12 16:26:33.393240</td>\n      <td>0.687615</td>\n      <td>0.728314</td>\n      <td>0.664863</td>\n      <td>False</td>\n    </tr>\n    <tr>\n      <th>1</th>\n      <td>0.411765</td>\n      <td>0.846939</td>\n      <td>0.682714</td>\n      <td>0.647743</td>\n      <td>0.701234</td>\n      <td>0.875006</td>\n      <td>0.490464</td>\n      <td>0.494943</td>\n      <td>1.000000</td>\n      <td>2024-01-12 16:26:33.513343</td>\n      <td>0.702060</td>\n      <td>0.735152</td>\n      <td>0.639645</td>\n      <td>False</td>\n    </tr>\n    <tr>\n      <th>2</th>\n      <td>0.431373</td>\n      <td>0.831633</td>\n      <td>0.680663</td>\n      <td>0.613352</td>\n      <td>0.721659</td>\n      <td>0.873975</td>\n      <td>0.491610</td>\n      <td>0.489404</td>\n      <td>1.000000</td>\n      <td>2024-01-12 16:26:33.693540</td>\n      <td>0.685689</td>\n      <td>0.708170</td>\n      <td>0.684054</td>\n      <td>False</td>\n    </tr>\n    <tr>\n      <th>3</th>\n      <td>0.401961</td>\n      <td>0.836735</td>\n      <td>0.683740</td>\n      <td>0.634582</td>\n      <td>0.702330</td>\n      <td>0.854381</td>\n      <td>0.513387</td>\n      <td>0.504678</td>\n      <td>0.919898</td>\n      <td>2024-01-12 16:26:33.933171</td>\n      <td>0.689787</td>\n      <td>0.737665</td>\n      <td>0.651207</td>\n      <td>False</td>\n    </tr>\n    <tr>\n      <th>4</th>\n      <td>0.441176</td>\n      <td>0.846939</td>\n      <td>0.665508</td>\n      <td>0.652161</td>\n      <td>0.742906</td>\n      <td>0.860568</td>\n      <td>0.513960</td>\n      <td>0.486383</td>\n      <td>0.899490</td>\n      <td>2024-01-12 16:26:34.113693</td>\n      <td>0.670529</td>\n      <td>0.738593</td>\n      <td>0.702919</td>\n      <td>False</td>\n    </tr>\n    <tr>\n      <th>...</th>\n      <td>...</td>\n      <td>...</td>\n      <td>...</td>\n      <td>...</td>\n      <td>...</td>\n      <td>...</td>\n      <td>...</td>\n      <td>...</td>\n      <td>...</td>\n      <td>...</td>\n      <td>...</td>\n      <td>...</td>\n      <td>...</td>\n      <td>...</td>\n    </tr>\n    <tr>\n      <th>266</th>\n      <td>0.627451</td>\n      <td>0.714286</td>\n      <td>0.606882</td>\n      <td>0.513160</td>\n      <td>0.627348</td>\n      <td>0.792651</td>\n      <td>0.348406</td>\n      <td>0.275750</td>\n      <td>1.000000</td>\n      <td>2024-01-12 16:24:30.655430</td>\n      <td>0.618454</td>\n      <td>0.647477</td>\n      <td>0.595894</td>\n      <td>True</td>\n    </tr>\n    <tr>\n      <th>275</th>\n      <td>0.441176</td>\n      <td>0.821429</td>\n      <td>0.668528</td>\n      <td>0.614505</td>\n      <td>0.689376</td>\n      <td>0.820494</td>\n      <td>0.617754</td>\n      <td>0.920933</td>\n      <td>1.000000</td>\n      <td>2024-01-12 16:24:31.735440</td>\n      <td>0.569977</td>\n      <td>0.729500</td>\n      <td>0.527108</td>\n      <td>False</td>\n    </tr>\n    <tr>\n      <th>276</th>\n      <td>0.411765</td>\n      <td>0.821429</td>\n      <td>0.682885</td>\n      <td>0.608549</td>\n      <td>0.708430</td>\n      <td>0.850400</td>\n      <td>0.535230</td>\n      <td>0.905995</td>\n      <td>1.000000</td>\n      <td>2024-01-12 16:24:31.976498</td>\n      <td>0.697691</td>\n      <td>0.725706</td>\n      <td>0.678246</td>\n      <td>False</td>\n    </tr>\n    <tr>\n      <th>277</th>\n      <td>0.441176</td>\n      <td>0.836735</td>\n      <td>0.667787</td>\n      <td>0.633621</td>\n      <td>0.710898</td>\n      <td>0.876697</td>\n      <td>0.454426</td>\n      <td>0.511232</td>\n      <td>1.000000</td>\n      <td>2024-01-12 16:24:32.156019</td>\n      <td>0.673387</td>\n      <td>0.743056</td>\n      <td>0.667190</td>\n      <td>False</td>\n    </tr>\n    <tr>\n      <th>278</th>\n      <td>0.431373</td>\n      <td>0.846939</td>\n      <td>0.672687</td>\n      <td>0.651009</td>\n      <td>0.720494</td>\n      <td>0.856072</td>\n      <td>0.528926</td>\n      <td>0.488405</td>\n      <td>0.369388</td>\n      <td>2024-01-12 16:24:32.396071</td>\n      <td>0.691068</td>\n      <td>0.735959</td>\n      <td>0.671631</td>\n      <td>False</td>\n    </tr>\n  </tbody>\n</table>\n<p>649 rows × 14 columns</p>\n</div>"
     },
     "execution_count": 51,
     "metadata": {},
     "output_type": "execute_result"
    }
   ],
   "source": [
    "from sklearn.preprocessing import MinMaxScaler\n",
    "for col in ['pitch', 'roll', 'acceleration_x', 'acceleration_y', 'acceleration_z', \n",
    "            'angular_velocity_x', 'angular_velocity_y', 'angular_velocity_z', 'distance', 'jerk_x', 'jerk_y', 'jerk_z']:\n",
    "    scaler = MinMaxScaler()\n",
    "    filtered_df[col] = scaler.fit_transform(filtered_df[[col]])\n",
    "filtered_df"
   ],
   "metadata": {
    "collapsed": false,
    "ExecuteTime": {
     "end_time": "2024-01-29T21:17:56.492983200Z",
     "start_time": "2024-01-29T21:17:56.435361400Z"
    }
   },
   "id": "1c2f5a11d6bdb534",
   "execution_count": 51
  },
  {
   "cell_type": "code",
   "execution_count": 52,
   "id": "e8ccca57-9e95-4351-aa5f-6a3ce9cec407",
   "metadata": {
    "ExecuteTime": {
     "end_time": "2024-01-29T21:18:33.594843400Z",
     "start_time": "2024-01-29T21:18:32.805600100Z"
    }
   },
   "outputs": [],
   "source": [
    "# Convert to tensors. Every tensor contains 10 entries. \n",
    "history_size = 10\n",
    "tensors = []\n",
    "# TODO: normalize all columns to be between 0 and 1\n",
    "for start in range(len(filtered_df) - history_size):\n",
    "    window_df = filtered_df.iloc[start:start+history_size].drop(columns=[\"time\",\"is_running_backoff\"]).astype('float32')\n",
    "    tensors.append(tf.convert_to_tensor(window_df))\n",
    "    \n",
    "# The label is whether the backoff procedure is started (1 when the last line of the tensor had the backoff procedure started)\n",
    "labels = filtered_df['is_running_backoff'].iloc[history_size:].astype('int64').values\n"
   ]
  },
  {
   "cell_type": "code",
   "execution_count": 53,
   "id": "e93c58a0-e5d9-4975-8232-268eb111dfc9",
   "metadata": {
    "ExecuteTime": {
     "end_time": "2024-01-29T21:18:35.499392200Z",
     "start_time": "2024-01-29T21:18:35.489219Z"
    }
   },
   "outputs": [
    {
     "name": "stdout",
     "output_type": "stream",
     "text": [
      "Examples:\n",
      "    Total: 639\n",
      "    Positive: 27 (4.23% of total)\n"
     ]
    }
   ],
   "source": [
    "# Data set is not very balanced\n",
    "# Using inspiration from https://www.tensorflow.org/tutorials/structured_data/imbalanced_data\n",
    "neg, pos = np.bincount(labels)\n",
    "total = neg + pos\n",
    "print('Examples:\\n    Total: {}\\n    Positive: {} ({:.2f}% of total)\\n'.format(\n",
    "    total, pos, 100 * pos / total))"
   ]
  },
  {
   "cell_type": "code",
   "outputs": [
    {
     "name": "stdout",
     "output_type": "stream",
     "text": [
      "0\n",
      "tf.Tensor(\n",
      "[0.42156863 0.8214286  0.6775866  0.611047   0.69540787 0.8188033\n",
      " 0.5019253  0.4977962  1.         0.6765628  0.70871276 0.6462217 ], shape=(12,), dtype=float32)\n"
     ]
    }
   ],
   "source": [
    "print(labels[0])\n",
    "print(tensors[0][9]) # Because of the history size this should match with the 10th row in the dataframe above"
   ],
   "metadata": {
    "collapsed": false,
    "ExecuteTime": {
     "end_time": "2024-01-29T21:18:39.255504600Z",
     "start_time": "2024-01-29T21:18:39.249224Z"
    }
   },
   "id": "edaffc247628907b",
   "execution_count": 54
  },
  {
   "cell_type": "code",
   "execution_count": 55,
   "id": "03dead5e-138d-4d27-91a8-f9b0ddc62240",
   "metadata": {
    "scrolled": true,
    "ExecuteTime": {
     "end_time": "2024-01-29T21:18:52.617851400Z",
     "start_time": "2024-01-29T21:18:52.613132300Z"
    }
   },
   "outputs": [
    {
     "name": "stdout",
     "output_type": "stream",
     "text": [
      "1\n",
      "tf.Tensor(\n",
      "[0.4117647  0.86734694 0.6819166  0.67569643 0.7039754  0.8631466\n",
      " 0.5036445  0.496957   0.01581633 0.69789344 0.75529    0.64397955], shape=(12,), dtype=float32)\n"
     ]
    }
   ],
   "source": [
    "print(labels[10])\n",
    "print(tensors[10][9]) # The 20th row above. The first one that has a positive label"
   ]
  },
  {
   "cell_type": "code",
   "outputs": [],
   "source": [
    "from sklearn.model_selection import train_test_split\n",
    "train_tensors, test_tensors, train_labels, test_labels = train_test_split(tensors, labels, test_size=0.2)\n",
    "train_tensors, val_tensors, train_labels, val_labels = train_test_split(train_tensors, train_labels, test_size=0.2)"
   ],
   "metadata": {
    "collapsed": false,
    "ExecuteTime": {
     "end_time": "2024-01-29T21:18:57.239457700Z",
     "start_time": "2024-01-29T21:18:57.235242700Z"
    }
   },
   "id": "9ccbbd81e164e851",
   "execution_count": 56
  },
  {
   "cell_type": "code",
   "outputs": [
    {
     "data": {
      "text/plain": "(408, 103, 128)"
     },
     "execution_count": 57,
     "metadata": {},
     "output_type": "execute_result"
    }
   ],
   "source": [
    "len(train_tensors), len(val_tensors), len(test_tensors)"
   ],
   "metadata": {
    "collapsed": false,
    "ExecuteTime": {
     "end_time": "2024-01-29T21:18:58.321574Z",
     "start_time": "2024-01-29T21:18:58.249258100Z"
    }
   },
   "id": "6a4f35adf25f8e1d",
   "execution_count": 57
  },
  {
   "cell_type": "code",
   "outputs": [
    {
     "name": "stdout",
     "output_type": "stream",
     "text": [
      "Average class probability in training set:   0.0417\n",
      "Average class probability in validation set: 0.0485\n",
      "Average class probability in test set:       0.0391\n"
     ]
    }
   ],
   "source": [
    "# This is clearly not very well balanced because of the small amount of data I currently have\n",
    "print(f'Average class probability in training set:   {train_labels.mean():.4f}')\n",
    "print(f'Average class probability in validation set: {val_labels.mean():.4f}')\n",
    "print(f'Average class probability in test set:       {test_labels.mean():.4f}')"
   ],
   "metadata": {
    "collapsed": false,
    "ExecuteTime": {
     "end_time": "2024-01-29T21:18:59.520917600Z",
     "start_time": "2024-01-29T21:18:59.515641200Z"
    }
   },
   "id": "accc39f8ef030f18",
   "execution_count": 58
  },
  {
   "cell_type": "code",
   "outputs": [],
   "source": [
    "from tensorflow import keras\n",
    "METRICS = [\n",
    "    keras.metrics.BinaryCrossentropy(name='cross entropy'),  # same as model's loss\n",
    "    keras.metrics.MeanSquaredError(name='Brier score'),\n",
    "    keras.metrics.TruePositives(name='tp'),\n",
    "    keras.metrics.FalsePositives(name='fp'),\n",
    "    keras.metrics.TrueNegatives(name='tn'),\n",
    "    keras.metrics.FalseNegatives(name='fn'),\n",
    "    keras.metrics.BinaryAccuracy(name='accuracy'),\n",
    "    keras.metrics.Precision(name='precision'),\n",
    "    keras.metrics.Recall(name='recall'),\n",
    "    keras.metrics.AUC(name='auc'),\n",
    "    keras.metrics.AUC(name='prc', curve='PR'), # precision-recall curve\n",
    "]\n"
   ],
   "metadata": {
    "collapsed": false,
    "ExecuteTime": {
     "end_time": "2024-01-29T21:35:37.988483Z",
     "start_time": "2024-01-29T21:35:37.952775500Z"
    }
   },
   "id": "4a4f51122c8a0bd4",
   "execution_count": 86
  },
  {
   "cell_type": "code",
   "outputs": [],
   "source": [
    "model = keras.Sequential([\n",
    "    keras.layers.Flatten(input_shape=(history_size, 12)),\n",
    "    keras.layers.Dense(128, activation='relu'),\n",
    "    keras.layers.Dense(1, activation='sigmoid')\n",
    "])\n",
    "\n",
    "model.compile(optimizer=keras.optimizers.Adam(learning_rate=0.001),\n",
    "              loss=keras.losses.BinaryCrossentropy(),\n",
    "              metrics=METRICS)"
   ],
   "metadata": {
    "collapsed": false,
    "ExecuteTime": {
     "end_time": "2024-01-29T21:35:47.471914100Z",
     "start_time": "2024-01-29T21:35:47.428731800Z"
    }
   },
   "id": "3e7c2476abdf75c4",
   "execution_count": 88
  },
  {
   "cell_type": "code",
   "outputs": [
    {
     "name": "stdout",
     "output_type": "stream",
     "text": [
      "Model: \"sequential_5\"\n",
      "_________________________________________________________________\n",
      " Layer (type)                Output Shape              Param #   \n",
      "=================================================================\n",
      " flatten_4 (Flatten)         (None, 120)               0         \n",
      "                                                                 \n",
      " dense_8 (Dense)             (None, 128)               15488     \n",
      "                                                                 \n",
      " dense_9 (Dense)             (None, 1)                 129       \n",
      "                                                                 \n",
      "=================================================================\n",
      "Total params: 15617 (61.00 KB)\n",
      "Trainable params: 15617 (61.00 KB)\n",
      "Non-trainable params: 0 (0.00 Byte)\n",
      "_________________________________________________________________\n"
     ]
    }
   ],
   "source": [
    "model.summary()"
   ],
   "metadata": {
    "collapsed": false,
    "ExecuteTime": {
     "end_time": "2024-01-29T21:35:48.149953600Z",
     "start_time": "2024-01-29T21:35:48.094751Z"
    }
   },
   "id": "63a89aa1172ad38d",
   "execution_count": 89
  },
  {
   "cell_type": "code",
   "outputs": [],
   "source": [
    "EPOCHS = 100\n",
    "\n",
    "early_stopping = tf.keras.callbacks.EarlyStopping(\n",
    "    monitor='val_prc',\n",
    "    verbose=1,\n",
    "    patience=10,\n",
    "    mode='max',\n",
    "    restore_best_weights=True)"
   ],
   "metadata": {
    "collapsed": false,
    "ExecuteTime": {
     "end_time": "2024-01-29T21:35:48.630562500Z",
     "start_time": "2024-01-29T21:35:48.626401800Z"
    }
   },
   "id": "7089c4cac036edc4",
   "execution_count": 90
  },
  {
   "cell_type": "code",
   "outputs": [],
   "source": [
    "# TODO: set initial bias\n",
    "# https://www.tensorflow.org/tutorials/structured_data/imbalanced_data#optional_set_the_correct_initial_bias"
   ],
   "metadata": {
    "collapsed": false,
    "ExecuteTime": {
     "end_time": "2024-01-29T21:35:49.388315200Z",
     "start_time": "2024-01-29T21:35:49.384090400Z"
    }
   },
   "id": "992faab87ed2c0c0",
   "execution_count": 91
  },
  {
   "cell_type": "code",
   "outputs": [
    {
     "name": "stdout",
     "output_type": "stream",
     "text": [
      "Epoch 1/100\n",
      "408/408 [==============================] - 5s 8ms/step - loss: 0.2041 - cross entropy: 0.2041 - Brier score: 0.0441 - tp: 0.0000e+00 - fp: 1.0000 - tn: 390.0000 - fn: 17.0000 - accuracy: 0.9559 - precision: 0.0000e+00 - recall: 0.0000e+00 - auc: 0.4203 - prc: 0.0351 - val_loss: 0.2078 - val_cross entropy: 0.2078 - val_Brier score: 0.0469 - val_tp: 0.0000e+00 - val_fp: 0.0000e+00 - val_tn: 98.0000 - val_fn: 5.0000 - val_accuracy: 0.9515 - val_precision: 0.0000e+00 - val_recall: 0.0000e+00 - val_auc: 0.7082 - val_prc: 0.0912\n",
      "Epoch 2/100\n",
      "408/408 [==============================] - 3s 6ms/step - loss: 0.1827 - cross entropy: 0.1827 - Brier score: 0.0409 - tp: 0.0000e+00 - fp: 0.0000e+00 - tn: 391.0000 - fn: 17.0000 - accuracy: 0.9583 - precision: 0.0000e+00 - recall: 0.0000e+00 - auc: 0.5139 - prc: 0.0429 - val_loss: 0.1849 - val_cross entropy: 0.1849 - val_Brier score: 0.0454 - val_tp: 0.0000e+00 - val_fp: 0.0000e+00 - val_tn: 98.0000 - val_fn: 5.0000 - val_accuracy: 0.9515 - val_precision: 0.0000e+00 - val_recall: 0.0000e+00 - val_auc: 0.7796 - val_prc: 0.1136\n",
      "Epoch 3/100\n",
      "408/408 [==============================] - 3s 6ms/step - loss: 0.1836 - cross entropy: 0.1836 - Brier score: 0.0410 - tp: 0.0000e+00 - fp: 0.0000e+00 - tn: 391.0000 - fn: 17.0000 - accuracy: 0.9583 - precision: 0.0000e+00 - recall: 0.0000e+00 - auc: 0.5048 - prc: 0.0455 - val_loss: 0.1890 - val_cross entropy: 0.1890 - val_Brier score: 0.0459 - val_tp: 0.0000e+00 - val_fp: 0.0000e+00 - val_tn: 98.0000 - val_fn: 5.0000 - val_accuracy: 0.9515 - val_precision: 0.0000e+00 - val_recall: 0.0000e+00 - val_auc: 0.7449 - val_prc: 0.1447\n",
      "Epoch 4/100\n",
      "408/408 [==============================] - 3s 6ms/step - loss: 0.1799 - cross entropy: 0.1799 - Brier score: 0.0405 - tp: 0.0000e+00 - fp: 0.0000e+00 - tn: 391.0000 - fn: 17.0000 - accuracy: 0.9583 - precision: 0.0000e+00 - recall: 0.0000e+00 - auc: 0.4810 - prc: 0.0385 - val_loss: 0.1847 - val_cross entropy: 0.1847 - val_Brier score: 0.0454 - val_tp: 0.0000e+00 - val_fp: 0.0000e+00 - val_tn: 98.0000 - val_fn: 5.0000 - val_accuracy: 0.9515 - val_precision: 0.0000e+00 - val_recall: 0.0000e+00 - val_auc: 0.7541 - val_prc: 0.1184\n",
      "Epoch 5/100\n",
      "408/408 [==============================] - 2s 6ms/step - loss: 0.1800 - cross entropy: 0.1800 - Brier score: 0.0407 - tp: 0.0000e+00 - fp: 0.0000e+00 - tn: 391.0000 - fn: 17.0000 - accuracy: 0.9583 - precision: 0.0000e+00 - recall: 0.0000e+00 - auc: 0.5180 - prc: 0.0428 - val_loss: 0.1883 - val_cross entropy: 0.1883 - val_Brier score: 0.0458 - val_tp: 0.0000e+00 - val_fp: 0.0000e+00 - val_tn: 98.0000 - val_fn: 5.0000 - val_accuracy: 0.9515 - val_precision: 0.0000e+00 - val_recall: 0.0000e+00 - val_auc: 0.7286 - val_prc: 0.1134\n",
      "Epoch 6/100\n",
      "408/408 [==============================] - 2s 6ms/step - loss: 0.1767 - cross entropy: 0.1767 - Brier score: 0.0403 - tp: 0.0000e+00 - fp: 0.0000e+00 - tn: 391.0000 - fn: 17.0000 - accuracy: 0.9583 - precision: 0.0000e+00 - recall: 0.0000e+00 - auc: 0.5943 - prc: 0.0493 - val_loss: 0.2780 - val_cross entropy: 0.2780 - val_Brier score: 0.0482 - val_tp: 0.0000e+00 - val_fp: 0.0000e+00 - val_tn: 98.0000 - val_fn: 5.0000 - val_accuracy: 0.9515 - val_precision: 0.0000e+00 - val_recall: 0.0000e+00 - val_auc: 0.5000 - val_prc: 0.0485\n",
      "Epoch 7/100\n",
      "408/408 [==============================] - 2s 6ms/step - loss: 0.1867 - cross entropy: 0.1867 - Brier score: 0.0400 - tp: 0.0000e+00 - fp: 0.0000e+00 - tn: 391.0000 - fn: 17.0000 - accuracy: 0.9583 - precision: 0.0000e+00 - recall: 0.0000e+00 - auc: 0.5788 - prc: 0.0826 - val_loss: 0.2117 - val_cross entropy: 0.2117 - val_Brier score: 0.0488 - val_tp: 0.0000e+00 - val_fp: 0.0000e+00 - val_tn: 98.0000 - val_fn: 5.0000 - val_accuracy: 0.9515 - val_precision: 0.0000e+00 - val_recall: 0.0000e+00 - val_auc: 0.7082 - val_prc: 0.1368\n",
      "Epoch 8/100\n",
      "408/408 [==============================] - 2s 6ms/step - loss: 0.1785 - cross entropy: 0.1785 - Brier score: 0.0405 - tp: 0.0000e+00 - fp: 0.0000e+00 - tn: 391.0000 - fn: 17.0000 - accuracy: 0.9583 - precision: 0.0000e+00 - recall: 0.0000e+00 - auc: 0.5245 - prc: 0.0459 - val_loss: 0.1909 - val_cross entropy: 0.1909 - val_Brier score: 0.0460 - val_tp: 0.0000e+00 - val_fp: 0.0000e+00 - val_tn: 98.0000 - val_fn: 5.0000 - val_accuracy: 0.9515 - val_precision: 0.0000e+00 - val_recall: 0.0000e+00 - val_auc: 0.7061 - val_prc: 0.1351\n",
      "Epoch 9/100\n",
      "408/408 [==============================] - 2s 6ms/step - loss: 0.1757 - cross entropy: 0.1757 - Brier score: 0.0402 - tp: 0.0000e+00 - fp: 0.0000e+00 - tn: 391.0000 - fn: 17.0000 - accuracy: 0.9583 - precision: 0.0000e+00 - recall: 0.0000e+00 - auc: 0.5551 - prc: 0.0432 - val_loss: 0.1889 - val_cross entropy: 0.1889 - val_Brier score: 0.0458 - val_tp: 0.0000e+00 - val_fp: 0.0000e+00 - val_tn: 98.0000 - val_fn: 5.0000 - val_accuracy: 0.9515 - val_precision: 0.0000e+00 - val_recall: 0.0000e+00 - val_auc: 0.7276 - val_prc: 0.1329\n",
      "Epoch 10/100\n",
      "408/408 [==============================] - 3s 6ms/step - loss: 0.1822 - cross entropy: 0.1822 - Brier score: 0.0405 - tp: 0.0000e+00 - fp: 0.0000e+00 - tn: 391.0000 - fn: 17.0000 - accuracy: 0.9583 - precision: 0.0000e+00 - recall: 0.0000e+00 - auc: 0.4479 - prc: 0.0349 - val_loss: 0.1856 - val_cross entropy: 0.1856 - val_Brier score: 0.0453 - val_tp: 0.0000e+00 - val_fp: 0.0000e+00 - val_tn: 98.0000 - val_fn: 5.0000 - val_accuracy: 0.9515 - val_precision: 0.0000e+00 - val_recall: 0.0000e+00 - val_auc: 0.7265 - val_prc: 0.1683\n",
      "Epoch 11/100\n",
      "408/408 [==============================] - 3s 6ms/step - loss: 0.1719 - cross entropy: 0.1719 - Brier score: 0.0398 - tp: 0.0000e+00 - fp: 0.0000e+00 - tn: 391.0000 - fn: 17.0000 - accuracy: 0.9583 - precision: 0.0000e+00 - recall: 0.0000e+00 - auc: 0.5891 - prc: 0.0611 - val_loss: 0.1885 - val_cross entropy: 0.1885 - val_Brier score: 0.0458 - val_tp: 0.0000e+00 - val_fp: 0.0000e+00 - val_tn: 98.0000 - val_fn: 5.0000 - val_accuracy: 0.9515 - val_precision: 0.0000e+00 - val_recall: 0.0000e+00 - val_auc: 0.7092 - val_prc: 0.1351\n",
      "Epoch 12/100\n",
      "408/408 [==============================] - 3s 6ms/step - loss: 0.1729 - cross entropy: 0.1729 - Brier score: 0.0399 - tp: 0.0000e+00 - fp: 0.0000e+00 - tn: 391.0000 - fn: 17.0000 - accuracy: 0.9583 - precision: 0.0000e+00 - recall: 0.0000e+00 - auc: 0.5803 - prc: 0.0552 - val_loss: 0.1854 - val_cross entropy: 0.1854 - val_Brier score: 0.0454 - val_tp: 0.0000e+00 - val_fp: 0.0000e+00 - val_tn: 98.0000 - val_fn: 5.0000 - val_accuracy: 0.9515 - val_precision: 0.0000e+00 - val_recall: 0.0000e+00 - val_auc: 0.7286 - val_prc: 0.1430\n",
      "Epoch 13/100\n",
      "408/408 [==============================] - 3s 6ms/step - loss: 0.1749 - cross entropy: 0.1749 - Brier score: 0.0401 - tp: 0.0000e+00 - fp: 0.0000e+00 - tn: 391.0000 - fn: 17.0000 - accuracy: 0.9583 - precision: 0.0000e+00 - recall: 0.0000e+00 - auc: 0.5475 - prc: 0.0501 - val_loss: 0.1855 - val_cross entropy: 0.1855 - val_Brier score: 0.0454 - val_tp: 0.0000e+00 - val_fp: 0.0000e+00 - val_tn: 98.0000 - val_fn: 5.0000 - val_accuracy: 0.9515 - val_precision: 0.0000e+00 - val_recall: 0.0000e+00 - val_auc: 0.7327 - val_prc: 0.1466\n",
      "Epoch 14/100\n",
      "408/408 [==============================] - 2s 6ms/step - loss: 0.1731 - cross entropy: 0.1731 - Brier score: 0.0400 - tp: 0.0000e+00 - fp: 0.0000e+00 - tn: 391.0000 - fn: 17.0000 - accuracy: 0.9583 - precision: 0.0000e+00 - recall: 0.0000e+00 - auc: 0.5741 - prc: 0.0517 - val_loss: 0.1952 - val_cross entropy: 0.1952 - val_Brier score: 0.0463 - val_tp: 0.0000e+00 - val_fp: 0.0000e+00 - val_tn: 98.0000 - val_fn: 5.0000 - val_accuracy: 0.9515 - val_precision: 0.0000e+00 - val_recall: 0.0000e+00 - val_auc: 0.7704 - val_prc: 0.1746\n",
      "Epoch 15/100\n",
      "408/408 [==============================] - 2s 6ms/step - loss: 0.1737 - cross entropy: 0.1737 - Brier score: 0.0399 - tp: 0.0000e+00 - fp: 0.0000e+00 - tn: 391.0000 - fn: 17.0000 - accuracy: 0.9583 - precision: 0.0000e+00 - recall: 0.0000e+00 - auc: 0.5622 - prc: 0.0555 - val_loss: 0.1865 - val_cross entropy: 0.1865 - val_Brier score: 0.0452 - val_tp: 0.0000e+00 - val_fp: 0.0000e+00 - val_tn: 98.0000 - val_fn: 5.0000 - val_accuracy: 0.9515 - val_precision: 0.0000e+00 - val_recall: 0.0000e+00 - val_auc: 0.7265 - val_prc: 0.1360\n",
      "Epoch 16/100\n",
      "408/408 [==============================] - 2s 6ms/step - loss: 0.1734 - cross entropy: 0.1734 - Brier score: 0.0399 - tp: 0.0000e+00 - fp: 0.0000e+00 - tn: 391.0000 - fn: 17.0000 - accuracy: 0.9583 - precision: 0.0000e+00 - recall: 0.0000e+00 - auc: 0.5836 - prc: 0.0604 - val_loss: 0.1839 - val_cross entropy: 0.1839 - val_Brier score: 0.0451 - val_tp: 0.0000e+00 - val_fp: 0.0000e+00 - val_tn: 98.0000 - val_fn: 5.0000 - val_accuracy: 0.9515 - val_precision: 0.0000e+00 - val_recall: 0.0000e+00 - val_auc: 0.7194 - val_prc: 0.1502\n",
      "Epoch 17/100\n",
      "408/408 [==============================] - 3s 6ms/step - loss: 0.1728 - cross entropy: 0.1728 - Brier score: 0.0399 - tp: 0.0000e+00 - fp: 0.0000e+00 - tn: 391.0000 - fn: 17.0000 - accuracy: 0.9583 - precision: 0.0000e+00 - recall: 0.0000e+00 - auc: 0.5806 - prc: 0.0554 - val_loss: 0.1836 - val_cross entropy: 0.1836 - val_Brier score: 0.0451 - val_tp: 0.0000e+00 - val_fp: 0.0000e+00 - val_tn: 98.0000 - val_fn: 5.0000 - val_accuracy: 0.9515 - val_precision: 0.0000e+00 - val_recall: 0.0000e+00 - val_auc: 0.7490 - val_prc: 0.1561\n",
      "Epoch 18/100\n",
      "408/408 [==============================] - 2s 6ms/step - loss: 0.1653 - cross entropy: 0.1653 - Brier score: 0.0394 - tp: 0.0000e+00 - fp: 0.0000e+00 - tn: 391.0000 - fn: 17.0000 - accuracy: 0.9583 - precision: 0.0000e+00 - recall: 0.0000e+00 - auc: 0.7335 - prc: 0.1363 - val_loss: 0.1914 - val_cross entropy: 0.1914 - val_Brier score: 0.0457 - val_tp: 0.0000e+00 - val_fp: 0.0000e+00 - val_tn: 98.0000 - val_fn: 5.0000 - val_accuracy: 0.9515 - val_precision: 0.0000e+00 - val_recall: 0.0000e+00 - val_auc: 0.7235 - val_prc: 0.2074\n",
      "Epoch 19/100\n",
      "408/408 [==============================] - 2s 6ms/step - loss: 0.1726 - cross entropy: 0.1726 - Brier score: 0.0407 - tp: 0.0000e+00 - fp: 0.0000e+00 - tn: 391.0000 - fn: 17.0000 - accuracy: 0.9583 - precision: 0.0000e+00 - recall: 0.0000e+00 - auc: 0.6541 - prc: 0.0599 - val_loss: 0.1836 - val_cross entropy: 0.1836 - val_Brier score: 0.0451 - val_tp: 0.0000e+00 - val_fp: 0.0000e+00 - val_tn: 98.0000 - val_fn: 5.0000 - val_accuracy: 0.9515 - val_precision: 0.0000e+00 - val_recall: 0.0000e+00 - val_auc: 0.7408 - val_prc: 0.1666\n",
      "Epoch 20/100\n",
      "408/408 [==============================] - 2s 6ms/step - loss: 0.1717 - cross entropy: 0.1717 - Brier score: 0.0398 - tp: 0.0000e+00 - fp: 0.0000e+00 - tn: 391.0000 - fn: 17.0000 - accuracy: 0.9583 - precision: 0.0000e+00 - recall: 0.0000e+00 - auc: 0.5764 - prc: 0.1117 - val_loss: 0.1927 - val_cross entropy: 0.1927 - val_Brier score: 0.0461 - val_tp: 0.0000e+00 - val_fp: 0.0000e+00 - val_tn: 98.0000 - val_fn: 5.0000 - val_accuracy: 0.9515 - val_precision: 0.0000e+00 - val_recall: 0.0000e+00 - val_auc: 0.7316 - val_prc: 0.1413\n",
      "Epoch 21/100\n",
      "408/408 [==============================] - 2s 6ms/step - loss: 0.1727 - cross entropy: 0.1727 - Brier score: 0.0399 - tp: 0.0000e+00 - fp: 0.0000e+00 - tn: 391.0000 - fn: 17.0000 - accuracy: 0.9583 - precision: 0.0000e+00 - recall: 0.0000e+00 - auc: 0.5859 - prc: 0.0544 - val_loss: 0.1917 - val_cross entropy: 0.1917 - val_Brier score: 0.0460 - val_tp: 0.0000e+00 - val_fp: 0.0000e+00 - val_tn: 98.0000 - val_fn: 5.0000 - val_accuracy: 0.9515 - val_precision: 0.0000e+00 - val_recall: 0.0000e+00 - val_auc: 0.7561 - val_prc: 0.1548\n",
      "Epoch 22/100\n",
      "408/408 [==============================] - 3s 7ms/step - loss: 0.1736 - cross entropy: 0.1736 - Brier score: 0.0399 - tp: 0.0000e+00 - fp: 0.0000e+00 - tn: 391.0000 - fn: 17.0000 - accuracy: 0.9583 - precision: 0.0000e+00 - recall: 0.0000e+00 - auc: 0.5560 - prc: 0.0519 - val_loss: 0.1836 - val_cross entropy: 0.1836 - val_Brier score: 0.0452 - val_tp: 0.0000e+00 - val_fp: 0.0000e+00 - val_tn: 98.0000 - val_fn: 5.0000 - val_accuracy: 0.9515 - val_precision: 0.0000e+00 - val_recall: 0.0000e+00 - val_auc: 0.7367 - val_prc: 0.1654\n",
      "Epoch 23/100\n",
      "408/408 [==============================] - 2s 6ms/step - loss: 0.1724 - cross entropy: 0.1724 - Brier score: 0.0399 - tp: 0.0000e+00 - fp: 0.0000e+00 - tn: 391.0000 - fn: 17.0000 - accuracy: 0.9583 - precision: 0.0000e+00 - recall: 0.0000e+00 - auc: 0.5746 - prc: 0.0496 - val_loss: 0.1855 - val_cross entropy: 0.1855 - val_Brier score: 0.0455 - val_tp: 0.0000e+00 - val_fp: 0.0000e+00 - val_tn: 98.0000 - val_fn: 5.0000 - val_accuracy: 0.9515 - val_precision: 0.0000e+00 - val_recall: 0.0000e+00 - val_auc: 0.7388 - val_prc: 0.2294\n",
      "Epoch 24/100\n",
      "408/408 [==============================] - 2s 6ms/step - loss: 0.1719 - cross entropy: 0.1719 - Brier score: 0.0399 - tp: 0.0000e+00 - fp: 0.0000e+00 - tn: 391.0000 - fn: 17.0000 - accuracy: 0.9583 - precision: 0.0000e+00 - recall: 0.0000e+00 - auc: 0.5903 - prc: 0.0538 - val_loss: 0.1832 - val_cross entropy: 0.1832 - val_Brier score: 0.0451 - val_tp: 0.0000e+00 - val_fp: 0.0000e+00 - val_tn: 98.0000 - val_fn: 5.0000 - val_accuracy: 0.9515 - val_precision: 0.0000e+00 - val_recall: 0.0000e+00 - val_auc: 0.7378 - val_prc: 0.1655\n",
      "Epoch 25/100\n",
      "408/408 [==============================] - 2s 5ms/step - loss: 0.1697 - cross entropy: 0.1697 - Brier score: 0.0397 - tp: 0.0000e+00 - fp: 0.0000e+00 - tn: 391.0000 - fn: 17.0000 - accuracy: 0.9583 - precision: 0.0000e+00 - recall: 0.0000e+00 - auc: 0.6361 - prc: 0.0616 - val_loss: 0.1898 - val_cross entropy: 0.1898 - val_Brier score: 0.0454 - val_tp: 0.0000e+00 - val_fp: 0.0000e+00 - val_tn: 98.0000 - val_fn: 5.0000 - val_accuracy: 0.9515 - val_precision: 0.0000e+00 - val_recall: 0.0000e+00 - val_auc: 0.7469 - val_prc: 0.2029\n",
      "Epoch 26/100\n",
      "408/408 [==============================] - 2s 6ms/step - loss: 0.1747 - cross entropy: 0.1747 - Brier score: 0.0401 - tp: 0.0000e+00 - fp: 0.0000e+00 - tn: 391.0000 - fn: 17.0000 - accuracy: 0.9583 - precision: 0.0000e+00 - recall: 0.0000e+00 - auc: 0.5605 - prc: 0.0483 - val_loss: 0.1827 - val_cross entropy: 0.1827 - val_Brier score: 0.0449 - val_tp: 0.0000e+00 - val_fp: 0.0000e+00 - val_tn: 98.0000 - val_fn: 5.0000 - val_accuracy: 0.9515 - val_precision: 0.0000e+00 - val_recall: 0.0000e+00 - val_auc: 0.7633 - val_prc: 0.1623\n",
      "Epoch 27/100\n",
      "408/408 [==============================] - 2s 6ms/step - loss: 0.1735 - cross entropy: 0.1735 - Brier score: 0.0399 - tp: 0.0000e+00 - fp: 0.0000e+00 - tn: 391.0000 - fn: 17.0000 - accuracy: 0.9583 - precision: 0.0000e+00 - recall: 0.0000e+00 - auc: 0.5414 - prc: 0.0684 - val_loss: 0.1828 - val_cross entropy: 0.1828 - val_Brier score: 0.0448 - val_tp: 0.0000e+00 - val_fp: 0.0000e+00 - val_tn: 98.0000 - val_fn: 5.0000 - val_accuracy: 0.9515 - val_precision: 0.0000e+00 - val_recall: 0.0000e+00 - val_auc: 0.7214 - val_prc: 0.1803\n",
      "Epoch 28/100\n",
      "408/408 [==============================] - 2s 6ms/step - loss: 0.1705 - cross entropy: 0.1705 - Brier score: 0.0397 - tp: 0.0000e+00 - fp: 0.0000e+00 - tn: 391.0000 - fn: 17.0000 - accuracy: 0.9583 - precision: 0.0000e+00 - recall: 0.0000e+00 - auc: 0.6046 - prc: 0.1219 - val_loss: 0.1831 - val_cross entropy: 0.1831 - val_Brier score: 0.0452 - val_tp: 0.0000e+00 - val_fp: 0.0000e+00 - val_tn: 98.0000 - val_fn: 5.0000 - val_accuracy: 0.9515 - val_precision: 0.0000e+00 - val_recall: 0.0000e+00 - val_auc: 0.7378 - val_prc: 0.2240\n",
      "Epoch 29/100\n",
      "408/408 [==============================] - 2s 6ms/step - loss: 0.1707 - cross entropy: 0.1707 - Brier score: 0.0398 - tp: 0.0000e+00 - fp: 0.0000e+00 - tn: 391.0000 - fn: 17.0000 - accuracy: 0.9583 - precision: 0.0000e+00 - recall: 0.0000e+00 - auc: 0.5973 - prc: 0.0541 - val_loss: 0.1907 - val_cross entropy: 0.1907 - val_Brier score: 0.0459 - val_tp: 0.0000e+00 - val_fp: 0.0000e+00 - val_tn: 98.0000 - val_fn: 5.0000 - val_accuracy: 0.9515 - val_precision: 0.0000e+00 - val_recall: 0.0000e+00 - val_auc: 0.7684 - val_prc: 0.1638\n",
      "Epoch 30/100\n",
      "408/408 [==============================] - 2s 6ms/step - loss: 0.1711 - cross entropy: 0.1711 - Brier score: 0.0401 - tp: 0.0000e+00 - fp: 0.0000e+00 - tn: 391.0000 - fn: 17.0000 - accuracy: 0.9583 - precision: 0.0000e+00 - recall: 0.0000e+00 - auc: 0.6229 - prc: 0.0502 - val_loss: 0.1878 - val_cross entropy: 0.1878 - val_Brier score: 0.0457 - val_tp: 0.0000e+00 - val_fp: 0.0000e+00 - val_tn: 98.0000 - val_fn: 5.0000 - val_accuracy: 0.9515 - val_precision: 0.0000e+00 - val_recall: 0.0000e+00 - val_auc: 0.7449 - val_prc: 0.1487\n",
      "Epoch 31/100\n",
      "408/408 [==============================] - 2s 6ms/step - loss: 0.1707 - cross entropy: 0.1707 - Brier score: 0.0396 - tp: 0.0000e+00 - fp: 0.0000e+00 - tn: 391.0000 - fn: 17.0000 - accuracy: 0.9583 - precision: 0.0000e+00 - recall: 0.0000e+00 - auc: 0.6145 - prc: 0.0816 - val_loss: 0.1834 - val_cross entropy: 0.1834 - val_Brier score: 0.0452 - val_tp: 0.0000e+00 - val_fp: 0.0000e+00 - val_tn: 98.0000 - val_fn: 5.0000 - val_accuracy: 0.9515 - val_precision: 0.0000e+00 - val_recall: 0.0000e+00 - val_auc: 0.7378 - val_prc: 0.1655\n",
      "Epoch 32/100\n",
      "408/408 [==============================] - 2s 6ms/step - loss: 0.1708 - cross entropy: 0.1708 - Brier score: 0.0396 - tp: 0.0000e+00 - fp: 0.0000e+00 - tn: 391.0000 - fn: 17.0000 - accuracy: 0.9583 - precision: 0.0000e+00 - recall: 0.0000e+00 - auc: 0.5949 - prc: 0.0823 - val_loss: 0.1835 - val_cross entropy: 0.1835 - val_Brier score: 0.0452 - val_tp: 0.0000e+00 - val_fp: 0.0000e+00 - val_tn: 98.0000 - val_fn: 5.0000 - val_accuracy: 0.9515 - val_precision: 0.0000e+00 - val_recall: 0.0000e+00 - val_auc: 0.7398 - val_prc: 0.1665\n",
      "Epoch 33/100\n",
      "402/408 [============================>.] - ETA: 0s - loss: 0.1734 - cross entropy: 0.1734 - Brier score: 0.0403 - tp: 0.0000e+00 - fp: 0.0000e+00 - tn: 385.0000 - fn: 17.0000 - accuracy: 0.9577 - precision: 0.0000e+00 - recall: 0.0000e+00 - auc: 0.5946 - prc: 0.0596Restoring model weights from the end of the best epoch: 23.\n",
      "408/408 [==============================] - 3s 6ms/step - loss: 0.1717 - cross entropy: 0.1717 - Brier score: 0.0398 - tp: 0.0000e+00 - fp: 0.0000e+00 - tn: 391.0000 - fn: 17.0000 - accuracy: 0.9583 - precision: 0.0000e+00 - recall: 0.0000e+00 - auc: 0.5901 - prc: 0.0577 - val_loss: 0.1825 - val_cross entropy: 0.1825 - val_Brier score: 0.0451 - val_tp: 0.0000e+00 - val_fp: 0.0000e+00 - val_tn: 98.0000 - val_fn: 5.0000 - val_accuracy: 0.9515 - val_precision: 0.0000e+00 - val_recall: 0.0000e+00 - val_auc: 0.7684 - val_prc: 0.1629\n",
      "Epoch 33: early stopping\n"
     ]
    }
   ],
   "source": [
    "history = model.fit(\n",
    "    np.array(train_tensors), \n",
    "    train_labels,\n",
    "    epochs=EPOCHS,\n",
    "    batch_size=1,\n",
    "    validation_data=(np.array(val_tensors), val_labels),\n",
    "    callbacks=[early_stopping])"
   ],
   "metadata": {
    "collapsed": false,
    "ExecuteTime": {
     "end_time": "2024-01-29T21:37:12.987852500Z",
     "start_time": "2024-01-29T21:35:49.960348500Z"
    }
   },
   "id": "c31204c167f5c627",
   "execution_count": 92
  },
  {
   "cell_type": "code",
   "outputs": [],
   "source": [
    "import matplotlib as mpl\n",
    "import matplotlib.pyplot as plt\n",
    "mpl.rcParams['figure.figsize'] = (12, 10)\n",
    "colors = plt.rcParams['axes.prop_cycle'].by_key()['color']\n",
    "\n",
    "\n",
    "def plot_metrics(history):\n",
    "    metrics = ['loss', 'prc', 'precision', 'recall']\n",
    "    for n, metric in enumerate(metrics):\n",
    "        name = metric.replace(\"_\",\" \").capitalize()\n",
    "        plt.subplot(2,2,n+1)\n",
    "        plt.plot(history.epoch, history.history[metric], color=colors[0], label='Train')\n",
    "        plt.plot(history.epoch, history.history['val_'+metric],\n",
    "                 color=colors[0], linestyle=\"--\", label='Val')\n",
    "        plt.xlabel('Epoch')\n",
    "        plt.ylabel(name)\n",
    "        if metric == 'loss':\n",
    "            plt.ylim([0, plt.ylim()[1]])\n",
    "        elif metric == 'auc':\n",
    "            plt.ylim([0.8,1])\n",
    "        else:\n",
    "            plt.ylim([0,1])\n",
    "\n",
    "        plt.legend()\n"
   ],
   "metadata": {
    "collapsed": false,
    "ExecuteTime": {
     "end_time": "2024-01-29T21:37:12.996443200Z",
     "start_time": "2024-01-29T21:37:12.989980900Z"
    }
   },
   "id": "f20ae4c7f0d97ac4",
   "execution_count": 93
  },
  {
   "cell_type": "code",
   "outputs": [
    {
     "data": {
      "text/plain": "<Figure size 1200x1000 with 4 Axes>",
      "image/png": "[encoded data removed]"
     },
     "metadata": {},
     "output_type": "display_data"
    }
   ],
   "source": [
    "plot_metrics(history)"
   ],
   "metadata": {
    "collapsed": false,
    "ExecuteTime": {
     "end_time": "2024-01-29T21:37:13.344821100Z",
     "start_time": "2024-01-29T21:37:12.992646200Z"
    }
   },
   "id": "2caa59da3a74d1fc",
   "execution_count": 94
  },
  {
   "cell_type": "code",
   "outputs": [],
   "source": [],
   "metadata": {
    "collapsed": false
   },
   "id": "d8c333d0658dc6fc"
  }
 ],
 "metadata": {
  "kernelspec": {
   "display_name": "Python 3 (ipykernel)",
   "language": "python",
   "name": "python3"
  },
  "language_info": {
   "codemirror_mode": {
    "name": "ipython",
    "version": 3
   },
   "file_extension": ".py",
   "mimetype": "text/x-python",
   "name": "python",
   "nbconvert_exporter": "python",
   "pygments_lexer": "ipython3",
   "version": "3.11.0rc1"
  }
 },
 "nbformat": 4,
 "nbformat_minor": 5
}
