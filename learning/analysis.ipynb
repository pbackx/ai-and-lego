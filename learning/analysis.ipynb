{
 "cells": [
  {
   "cell_type": "code",
   "execution_count": 9,
   "id": "011d29eb-21a6-4c1d-9a4d-b832fc0d8816",
   "metadata": {
    "ExecuteTime": {
     "end_time": "2024-01-20T15:24:32.567716300Z",
     "start_time": "2024-01-20T15:24:32.481142800Z"
    }
   },
   "outputs": [],
   "source": [
    "import pandas as pd\n",
    "import tensorflow as tf\n",
    "import numpy as np\n",
    "import glob"
   ]
  },
  {
   "cell_type": "code",
   "execution_count": 6,
   "id": "01d689f6-d3c7-4767-9ed7-a61a41f3622b",
   "metadata": {
    "ExecuteTime": {
     "end_time": "2024-01-20T15:21:45.558730700Z",
     "start_time": "2024-01-20T15:21:45.537571800Z"
    }
   },
   "outputs": [
    {
     "data": {
      "text/plain": "[PhysicalDevice(name='/physical_device:GPU:0', device_type='GPU')]"
     },
     "execution_count": 6,
     "metadata": {},
     "output_type": "execute_result"
    }
   ],
   "source": [
    "tf.config.list_physical_devices('GPU')"
   ]
  },
  {
   "cell_type": "code",
   "execution_count": 12,
   "id": "35ca84fc-8937-4084-99b1-22d4d51f72ef",
   "metadata": {
    "ExecuteTime": {
     "end_time": "2024-01-20T15:25:37.359229300Z",
     "start_time": "2024-01-20T15:25:37.257058900Z"
    }
   },
   "outputs": [
    {
     "data": {
      "text/plain": "     pitch  roll  acceleration_x  acceleration_y  acceleration_z  \\\n0     -1.0   0.0       205.85300       136.43750        9787.594   \n1     -3.0   2.0       636.70830       330.32230        9162.854   \n2     -1.0  -1.0       550.53720      -526.60080        9876.159   \n3     -4.0   0.0       679.79380         2.39364        9201.152   \n4      0.0   2.0       -86.17104       440.42980       10618.190   \n..     ...   ...             ...             ...             ...   \n274    0.0  -3.0        40.69188      -497.87710        8748.754   \n275    0.0  -3.0        40.69188      -497.87710        8748.754   \n276   -3.0  -3.0       643.88920      -646.28280        9414.187   \n277    0.0   0.0         9.57456       -21.54276        9500.357   \n278   -1.0   2.0       215.42760       411.70610        9835.467   \n\n     angular_velocity_x  angular_velocity_y  angular_velocity_z  distance  \\\n0             -0.055989           -0.095555            0.005286    2000.0   \n1              2.254011           -2.895555           -0.414714    2000.0   \n2              2.114011           -2.755555           -2.724714    2000.0   \n3             -0.545989           -0.095555            3.645286    1843.0   \n4              0.294011           -0.025555           -3.984714    1803.0   \n..                  ...                 ...                 ...       ...   \n274           -5.146463           12.652540          177.248700    2000.0   \n275           -5.146463           12.652540          177.248700    2000.0   \n276           -1.086463            2.572544          171.018800    2000.0   \n277            2.483537           -7.297456            6.378747    2000.0   \n278           -0.316463            1.802544           -3.141253     764.0   \n\n                           time        jerk_x       jerk_y        jerk_z  \\\n0    2024-01-12 16:26:33.393240      0.000000     0.000000      0.000000   \n1    2024-01-12 16:26:33.513343   3587.381664  1614.321041  -5201.701873   \n2    2024-01-12 16:26:33.693540   -478.204965 -4755.479281   3958.473227   \n3    2024-01-12 16:26:33.933171    539.398492  2207.537589  -2816.860089   \n4    2024-01-12 16:26:34.113693  -4243.055362  2426.497380   7849.669292   \n..                          ...           ...          ...           ...   \n274  2024-01-12 16:24:31.735440 -29213.812318   279.877173 -28414.193606   \n275  2024-01-12 16:24:31.735440 -29213.812318   279.877173 -28414.193606   \n276  2024-01-12 16:24:31.976498   2502.291233  -615.643123   2760.468435   \n277  2024-01-12 16:24:32.156019  -3533.372920  3480.038770    479.999554   \n278  2024-01-12 16:24:32.396071    857.535201  1804.812541   1395.989202   \n\n     is_running_backoff  \n0                 False  \n1                 False  \n2                 False  \n3                 False  \n4                 False  \n..                  ...  \n274                True  \n275               False  \n276               False  \n277               False  \n278               False  \n\n[899 rows x 14 columns]",
      "text/html": "<div>\n<style scoped>\n    .dataframe tbody tr th:only-of-type {\n        vertical-align: middle;\n    }\n\n    .dataframe tbody tr th {\n        vertical-align: top;\n    }\n\n    .dataframe thead th {\n        text-align: right;\n    }\n</style>\n<table border=\"1\" class=\"dataframe\">\n  <thead>\n    <tr style=\"text-align: right;\">\n      <th></th>\n      <th>pitch</th>\n      <th>roll</th>\n      <th>acceleration_x</th>\n      <th>acceleration_y</th>\n      <th>acceleration_z</th>\n      <th>angular_velocity_x</th>\n      <th>angular_velocity_y</th>\n      <th>angular_velocity_z</th>\n      <th>distance</th>\n      <th>time</th>\n      <th>jerk_x</th>\n      <th>jerk_y</th>\n      <th>jerk_z</th>\n      <th>is_running_backoff</th>\n    </tr>\n  </thead>\n  <tbody>\n    <tr>\n      <th>0</th>\n      <td>-1.0</td>\n      <td>0.0</td>\n      <td>205.85300</td>\n      <td>136.43750</td>\n      <td>9787.594</td>\n      <td>-0.055989</td>\n      <td>-0.095555</td>\n      <td>0.005286</td>\n      <td>2000.0</td>\n      <td>2024-01-12 16:26:33.393240</td>\n      <td>0.000000</td>\n      <td>0.000000</td>\n      <td>0.000000</td>\n      <td>False</td>\n    </tr>\n    <tr>\n      <th>1</th>\n      <td>-3.0</td>\n      <td>2.0</td>\n      <td>636.70830</td>\n      <td>330.32230</td>\n      <td>9162.854</td>\n      <td>2.254011</td>\n      <td>-2.895555</td>\n      <td>-0.414714</td>\n      <td>2000.0</td>\n      <td>2024-01-12 16:26:33.513343</td>\n      <td>3587.381664</td>\n      <td>1614.321041</td>\n      <td>-5201.701873</td>\n      <td>False</td>\n    </tr>\n    <tr>\n      <th>2</th>\n      <td>-1.0</td>\n      <td>-1.0</td>\n      <td>550.53720</td>\n      <td>-526.60080</td>\n      <td>9876.159</td>\n      <td>2.114011</td>\n      <td>-2.755555</td>\n      <td>-2.724714</td>\n      <td>2000.0</td>\n      <td>2024-01-12 16:26:33.693540</td>\n      <td>-478.204965</td>\n      <td>-4755.479281</td>\n      <td>3958.473227</td>\n      <td>False</td>\n    </tr>\n    <tr>\n      <th>3</th>\n      <td>-4.0</td>\n      <td>0.0</td>\n      <td>679.79380</td>\n      <td>2.39364</td>\n      <td>9201.152</td>\n      <td>-0.545989</td>\n      <td>-0.095555</td>\n      <td>3.645286</td>\n      <td>1843.0</td>\n      <td>2024-01-12 16:26:33.933171</td>\n      <td>539.398492</td>\n      <td>2207.537589</td>\n      <td>-2816.860089</td>\n      <td>False</td>\n    </tr>\n    <tr>\n      <th>4</th>\n      <td>0.0</td>\n      <td>2.0</td>\n      <td>-86.17104</td>\n      <td>440.42980</td>\n      <td>10618.190</td>\n      <td>0.294011</td>\n      <td>-0.025555</td>\n      <td>-3.984714</td>\n      <td>1803.0</td>\n      <td>2024-01-12 16:26:34.113693</td>\n      <td>-4243.055362</td>\n      <td>2426.497380</td>\n      <td>7849.669292</td>\n      <td>False</td>\n    </tr>\n    <tr>\n      <th>...</th>\n      <td>...</td>\n      <td>...</td>\n      <td>...</td>\n      <td>...</td>\n      <td>...</td>\n      <td>...</td>\n      <td>...</td>\n      <td>...</td>\n      <td>...</td>\n      <td>...</td>\n      <td>...</td>\n      <td>...</td>\n      <td>...</td>\n      <td>...</td>\n    </tr>\n    <tr>\n      <th>274</th>\n      <td>0.0</td>\n      <td>-3.0</td>\n      <td>40.69188</td>\n      <td>-497.87710</td>\n      <td>8748.754</td>\n      <td>-5.146463</td>\n      <td>12.652540</td>\n      <td>177.248700</td>\n      <td>2000.0</td>\n      <td>2024-01-12 16:24:31.735440</td>\n      <td>-29213.812318</td>\n      <td>279.877173</td>\n      <td>-28414.193606</td>\n      <td>True</td>\n    </tr>\n    <tr>\n      <th>275</th>\n      <td>0.0</td>\n      <td>-3.0</td>\n      <td>40.69188</td>\n      <td>-497.87710</td>\n      <td>8748.754</td>\n      <td>-5.146463</td>\n      <td>12.652540</td>\n      <td>177.248700</td>\n      <td>2000.0</td>\n      <td>2024-01-12 16:24:31.735440</td>\n      <td>-29213.812318</td>\n      <td>279.877173</td>\n      <td>-28414.193606</td>\n      <td>False</td>\n    </tr>\n    <tr>\n      <th>276</th>\n      <td>-3.0</td>\n      <td>-3.0</td>\n      <td>643.88920</td>\n      <td>-646.28280</td>\n      <td>9414.187</td>\n      <td>-1.086463</td>\n      <td>2.572544</td>\n      <td>171.018800</td>\n      <td>2000.0</td>\n      <td>2024-01-12 16:24:31.976498</td>\n      <td>2502.291233</td>\n      <td>-615.643123</td>\n      <td>2760.468435</td>\n      <td>False</td>\n    </tr>\n    <tr>\n      <th>277</th>\n      <td>0.0</td>\n      <td>0.0</td>\n      <td>9.57456</td>\n      <td>-21.54276</td>\n      <td>9500.357</td>\n      <td>2.483537</td>\n      <td>-7.297456</td>\n      <td>6.378747</td>\n      <td>2000.0</td>\n      <td>2024-01-12 16:24:32.156019</td>\n      <td>-3533.372920</td>\n      <td>3480.038770</td>\n      <td>479.999554</td>\n      <td>False</td>\n    </tr>\n    <tr>\n      <th>278</th>\n      <td>-1.0</td>\n      <td>2.0</td>\n      <td>215.42760</td>\n      <td>411.70610</td>\n      <td>9835.467</td>\n      <td>-0.316463</td>\n      <td>1.802544</td>\n      <td>-3.141253</td>\n      <td>764.0</td>\n      <td>2024-01-12 16:24:32.396071</td>\n      <td>857.535201</td>\n      <td>1804.812541</td>\n      <td>1395.989202</td>\n      <td>False</td>\n    </tr>\n  </tbody>\n</table>\n<p>899 rows × 14 columns</p>\n</div>"
     },
     "execution_count": 12,
     "metadata": {},
     "output_type": "execute_result"
    }
   ],
   "source": [
    "csv_files = glob.glob('./driving_data/*.csv')\n",
    "dfs = []\n",
    "for file in csv_files:\n",
    "    dfs.append(pd.read_csv(file))\n",
    "df = pd.concat(dfs)\n",
    "df"
   ]
  },
  {
   "cell_type": "code",
   "execution_count": 17,
   "id": "852f6edc-ca76-46dd-8d57-b9b5e5ee7f40",
   "metadata": {
    "ExecuteTime": {
     "end_time": "2024-01-20T15:39:00.933506200Z",
     "start_time": "2024-01-20T15:39:00.833253400Z"
    }
   },
   "outputs": [
    {
     "data": {
      "text/plain": "     pitch  roll  acceleration_x  acceleration_y  acceleration_z  \\\n0     -1.0   0.0       205.85300       136.43750        9787.594   \n1     -3.0   2.0       636.70830       330.32230        9162.854   \n2     -1.0  -1.0       550.53720      -526.60080        9876.159   \n3     -4.0   0.0       679.79380         2.39364        9201.152   \n4      0.0   2.0       -86.17104       440.42980       10618.190   \n..     ...   ...             ...             ...             ...   \n266   19.0 -24.0     -2549.22700     -3023.16700        6582.510   \n275    0.0  -3.0        40.69188      -497.87710        8748.754   \n276   -3.0  -3.0       643.88920      -646.28280        9414.187   \n277    0.0   0.0         9.57456       -21.54276        9500.357   \n278   -1.0   2.0       215.42760       411.70610        9835.467   \n\n     angular_velocity_x  angular_velocity_y  angular_velocity_z  distance  \\\n0             -0.055989           -0.095555            0.005286    2000.0   \n1              2.254011           -2.895555           -0.414714    2000.0   \n2              2.114011           -2.755555           -2.724714    2000.0   \n3             -0.545989           -0.095555            3.645286    1843.0   \n4              0.294011           -0.025555           -3.984714    1803.0   \n..                  ...                 ...                 ...       ...   \n266           -8.926463          -20.247460          -91.831250    2000.0   \n275           -5.146463           12.652540          177.248700    2000.0   \n276           -1.086463            2.572544          171.018800    2000.0   \n277            2.483537           -7.297456            6.378747    2000.0   \n278           -0.316463            1.802544           -3.141253     764.0   \n\n                           time        jerk_x        jerk_y        jerk_z  \\\n0    2024-01-12 16:26:33.393240      0.000000      0.000000      0.000000   \n1    2024-01-12 16:26:33.513343   3587.381664   1614.321041  -5201.701873   \n2    2024-01-12 16:26:33.693540   -478.204965  -4755.479281   3958.473227   \n3    2024-01-12 16:26:33.933171    539.398492   2207.537589  -2816.860089   \n4    2024-01-12 16:26:34.113693  -4243.055362   2426.497380   7849.669292   \n..                          ...           ...           ...           ...   \n266  2024-01-12 16:24:30.655430 -17175.118334 -19083.460541 -14225.857888   \n275  2024-01-12 16:24:31.735440 -29213.812318    279.877173 -28414.193606   \n276  2024-01-12 16:24:31.976498   2502.291233   -615.643123   2760.468435   \n277  2024-01-12 16:24:32.156019  -3533.372920   3480.038770    479.999554   \n278  2024-01-12 16:24:32.396071    857.535201   1804.812541   1395.989202   \n\n     is_running_backoff  \n0                 False  \n1                 False  \n2                 False  \n3                 False  \n4                 False  \n..                  ...  \n266                True  \n275               False  \n276               False  \n277               False  \n278               False  \n\n[649 rows x 14 columns]",
      "text/html": "<div>\n<style scoped>\n    .dataframe tbody tr th:only-of-type {\n        vertical-align: middle;\n    }\n\n    .dataframe tbody tr th {\n        vertical-align: top;\n    }\n\n    .dataframe thead th {\n        text-align: right;\n    }\n</style>\n<table border=\"1\" class=\"dataframe\">\n  <thead>\n    <tr style=\"text-align: right;\">\n      <th></th>\n      <th>pitch</th>\n      <th>roll</th>\n      <th>acceleration_x</th>\n      <th>acceleration_y</th>\n      <th>acceleration_z</th>\n      <th>angular_velocity_x</th>\n      <th>angular_velocity_y</th>\n      <th>angular_velocity_z</th>\n      <th>distance</th>\n      <th>time</th>\n      <th>jerk_x</th>\n      <th>jerk_y</th>\n      <th>jerk_z</th>\n      <th>is_running_backoff</th>\n    </tr>\n  </thead>\n  <tbody>\n    <tr>\n      <th>0</th>\n      <td>-1.0</td>\n      <td>0.0</td>\n      <td>205.85300</td>\n      <td>136.43750</td>\n      <td>9787.594</td>\n      <td>-0.055989</td>\n      <td>-0.095555</td>\n      <td>0.005286</td>\n      <td>2000.0</td>\n      <td>2024-01-12 16:26:33.393240</td>\n      <td>0.000000</td>\n      <td>0.000000</td>\n      <td>0.000000</td>\n      <td>False</td>\n    </tr>\n    <tr>\n      <th>1</th>\n      <td>-3.0</td>\n      <td>2.0</td>\n      <td>636.70830</td>\n      <td>330.32230</td>\n      <td>9162.854</td>\n      <td>2.254011</td>\n      <td>-2.895555</td>\n      <td>-0.414714</td>\n      <td>2000.0</td>\n      <td>2024-01-12 16:26:33.513343</td>\n      <td>3587.381664</td>\n      <td>1614.321041</td>\n      <td>-5201.701873</td>\n      <td>False</td>\n    </tr>\n    <tr>\n      <th>2</th>\n      <td>-1.0</td>\n      <td>-1.0</td>\n      <td>550.53720</td>\n      <td>-526.60080</td>\n      <td>9876.159</td>\n      <td>2.114011</td>\n      <td>-2.755555</td>\n      <td>-2.724714</td>\n      <td>2000.0</td>\n      <td>2024-01-12 16:26:33.693540</td>\n      <td>-478.204965</td>\n      <td>-4755.479281</td>\n      <td>3958.473227</td>\n      <td>False</td>\n    </tr>\n    <tr>\n      <th>3</th>\n      <td>-4.0</td>\n      <td>0.0</td>\n      <td>679.79380</td>\n      <td>2.39364</td>\n      <td>9201.152</td>\n      <td>-0.545989</td>\n      <td>-0.095555</td>\n      <td>3.645286</td>\n      <td>1843.0</td>\n      <td>2024-01-12 16:26:33.933171</td>\n      <td>539.398492</td>\n      <td>2207.537589</td>\n      <td>-2816.860089</td>\n      <td>False</td>\n    </tr>\n    <tr>\n      <th>4</th>\n      <td>0.0</td>\n      <td>2.0</td>\n      <td>-86.17104</td>\n      <td>440.42980</td>\n      <td>10618.190</td>\n      <td>0.294011</td>\n      <td>-0.025555</td>\n      <td>-3.984714</td>\n      <td>1803.0</td>\n      <td>2024-01-12 16:26:34.113693</td>\n      <td>-4243.055362</td>\n      <td>2426.497380</td>\n      <td>7849.669292</td>\n      <td>False</td>\n    </tr>\n    <tr>\n      <th>...</th>\n      <td>...</td>\n      <td>...</td>\n      <td>...</td>\n      <td>...</td>\n      <td>...</td>\n      <td>...</td>\n      <td>...</td>\n      <td>...</td>\n      <td>...</td>\n      <td>...</td>\n      <td>...</td>\n      <td>...</td>\n      <td>...</td>\n      <td>...</td>\n    </tr>\n    <tr>\n      <th>266</th>\n      <td>19.0</td>\n      <td>-24.0</td>\n      <td>-2549.22700</td>\n      <td>-3023.16700</td>\n      <td>6582.510</td>\n      <td>-8.926463</td>\n      <td>-20.247460</td>\n      <td>-91.831250</td>\n      <td>2000.0</td>\n      <td>2024-01-12 16:24:30.655430</td>\n      <td>-17175.118334</td>\n      <td>-19083.460541</td>\n      <td>-14225.857888</td>\n      <td>True</td>\n    </tr>\n    <tr>\n      <th>275</th>\n      <td>0.0</td>\n      <td>-3.0</td>\n      <td>40.69188</td>\n      <td>-497.87710</td>\n      <td>8748.754</td>\n      <td>-5.146463</td>\n      <td>12.652540</td>\n      <td>177.248700</td>\n      <td>2000.0</td>\n      <td>2024-01-12 16:24:31.735440</td>\n      <td>-29213.812318</td>\n      <td>279.877173</td>\n      <td>-28414.193606</td>\n      <td>False</td>\n    </tr>\n    <tr>\n      <th>276</th>\n      <td>-3.0</td>\n      <td>-3.0</td>\n      <td>643.88920</td>\n      <td>-646.28280</td>\n      <td>9414.187</td>\n      <td>-1.086463</td>\n      <td>2.572544</td>\n      <td>171.018800</td>\n      <td>2000.0</td>\n      <td>2024-01-12 16:24:31.976498</td>\n      <td>2502.291233</td>\n      <td>-615.643123</td>\n      <td>2760.468435</td>\n      <td>False</td>\n    </tr>\n    <tr>\n      <th>277</th>\n      <td>0.0</td>\n      <td>0.0</td>\n      <td>9.57456</td>\n      <td>-21.54276</td>\n      <td>9500.357</td>\n      <td>2.483537</td>\n      <td>-7.297456</td>\n      <td>6.378747</td>\n      <td>2000.0</td>\n      <td>2024-01-12 16:24:32.156019</td>\n      <td>-3533.372920</td>\n      <td>3480.038770</td>\n      <td>479.999554</td>\n      <td>False</td>\n    </tr>\n    <tr>\n      <th>278</th>\n      <td>-1.0</td>\n      <td>2.0</td>\n      <td>215.42760</td>\n      <td>411.70610</td>\n      <td>9835.467</td>\n      <td>-0.316463</td>\n      <td>1.802544</td>\n      <td>-3.141253</td>\n      <td>764.0</td>\n      <td>2024-01-12 16:24:32.396071</td>\n      <td>857.535201</td>\n      <td>1804.812541</td>\n      <td>1395.989202</td>\n      <td>False</td>\n    </tr>\n  </tbody>\n</table>\n<p>649 rows × 14 columns</p>\n</div>"
     },
     "execution_count": 17,
     "metadata": {},
     "output_type": "execute_result"
    }
   ],
   "source": [
    "# We only want to keep the rows where nothing is happening or when it starts the backoff procedure. \n",
    "# The data during the backoff procedure is not useful.\n",
    "backoff_start = (df['is_running_backoff'] & -df['is_running_backoff'].shift(fill_value=False))\n",
    "filter_mask = -df['is_running_backoff'] | backoff_start\n",
    "filtered_df = df[filter_mask]\n",
    "filtered_df"
   ]
  },
  {
   "cell_type": "code",
   "execution_count": 29,
   "id": "e8ccca57-9e95-4351-aa5f-6a3ce9cec407",
   "metadata": {
    "ExecuteTime": {
     "end_time": "2024-01-20T15:51:35.295234700Z",
     "start_time": "2024-01-20T15:51:34.702267800Z"
    }
   },
   "outputs": [],
   "source": [
    "# Convert to tensors. Every tensor contains 10 entries. \n",
    "history_size = 10\n",
    "tensors = []\n",
    "# TODO: normalize all columns to be between 0 and 1\n",
    "for start in range(len(filtered_df) - history_size):\n",
    "    window_df = filtered_df.iloc[start:start+history_size].drop(columns=[\"time\",\"is_running_backoff\"]).astype('float32')\n",
    "    tensors.append(tf.convert_to_tensor(window_df))\n",
    "    \n",
    "# The label is whether the backoff procedure is started (1 when the last line of the tensor had the backoff procedure started)\n",
    "labels = tf.convert_to_tensor(filtered_df['is_running_backoff'].iloc[history_size:].astype('float32'))\n"
   ]
  },
  {
   "cell_type": "code",
   "execution_count": 34,
   "id": "e93c58a0-e5d9-4975-8232-268eb111dfc9",
   "metadata": {
    "ExecuteTime": {
     "end_time": "2024-01-20T15:52:02.793972900Z",
     "start_time": "2024-01-20T15:52:02.706739700Z"
    }
   },
   "outputs": [
    {
     "name": "stdout",
     "output_type": "stream",
     "text": [
      "tf.Tensor(0.0, shape=(), dtype=float32)\n",
      "tf.Tensor(\n",
      "[ 4.0000000e+00  9.0000000e+00 -2.7766220e+02  6.1037817e+02\n",
      "  3.5401941e+03  3.7940111e+00  2.3774441e+01  1.5335290e+01\n",
      "  2.0000000e+03 -4.9078970e+03 -2.3205842e+03 -3.1861320e+04], shape=(12,), dtype=float32)\n"
     ]
    }
   ],
   "source": [
    "print(labels[11])\n",
    "print(tensors[11][9])"
   ]
  },
  {
   "cell_type": "code",
   "outputs": [
    {
     "name": "stdout",
     "output_type": "stream",
     "text": [
      "tf.Tensor(0.0, shape=(), dtype=float32)\n",
      "tf.Tensor(\n",
      "[-2.0000000e+00 -3.0000000e+00  4.2128061e+02 -5.8404822e+02\n",
      "  8.9593945e+03 -5.3759890e+00 -1.4955550e+00  7.7528602e-01\n",
      "  2.0000000e+03 -2.7445901e+03 -4.6273516e+03 -3.8450737e+03], shape=(12,), dtype=float32)\n"
     ]
    }
   ],
   "source": [
    "print(labels[0])\n",
    "print(tensors[0][9])"
   ],
   "metadata": {
    "collapsed": false,
    "ExecuteTime": {
     "end_time": "2024-01-20T15:53:17.691857400Z",
     "start_time": "2024-01-20T15:53:17.583429900Z"
    }
   },
   "id": "edaffc247628907b",
   "execution_count": 36
  },
  {
   "cell_type": "code",
   "execution_count": 35,
   "id": "03dead5e-138d-4d27-91a8-f9b0ddc62240",
   "metadata": {
    "scrolled": true,
    "ExecuteTime": {
     "end_time": "2024-01-20T15:52:28.801015800Z",
     "start_time": "2024-01-20T15:52:28.719313900Z"
    }
   },
   "outputs": [
    {
     "name": "stdout",
     "output_type": "stream",
     "text": [
      "639 639\n"
     ]
    }
   ],
   "source": [
    "print(len(tensors),len(labels))"
   ]
  },
  {
   "cell_type": "code",
   "outputs": [],
   "source": [],
   "metadata": {
    "collapsed": false
   },
   "id": "9ccbbd81e164e851"
  }
 ],
 "metadata": {
  "kernelspec": {
   "display_name": "Python 3 (ipykernel)",
   "language": "python",
   "name": "python3"
  },
  "language_info": {
   "codemirror_mode": {
    "name": "ipython",
    "version": 3
   },
   "file_extension": ".py",
   "mimetype": "text/x-python",
   "name": "python",
   "nbconvert_exporter": "python",
   "pygments_lexer": "ipython3",
   "version": "3.11.0rc1"
  }
 },
 "nbformat": 4,
 "nbformat_minor": 5
}
